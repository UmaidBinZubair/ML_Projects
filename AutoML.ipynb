{
 "cells": [
  {
   "cell_type": "markdown",
   "metadata": {},
   "source": [
    "## Introduction\n",
    "\n",
    "AutoML was used to find an optimal model for our dataset.\n",
    "\n",
    "## Description\n",
    "\n",
    "Basically 2 AutoML libraries were used, H2o and TPOT whereas AutoKeras was not used since it performes DeepLearning and DL was our last resort. Both libraries couldn't use XGBoost as its implementation is buggy for windows and now it is no longer available on windows.\n",
    ">- TPOT\n",
    ">>- 2 experiments were run, first with 10 models and second with 50 models.\n",
    ">>- Both experiments settled for ExtraTreesClassifier. \n",
    ">>- Unfortunately, both models performed moderately on Train data but poorly on Test data. One of the explanantion can be overfitting.\n",
    ">>- For first experiment 'roc_auc' was selected as scoring criteria but for second experiment 'average_precision' (area under recall-precision graph) was used.\n",
    ">>- TPOT didnt provide any option for class balance or class weights.\n",
    "\n",
    ">- H2o\n",
    ">>- One benefit H2o over TPOT was the availablity of the option of balance class.\n",
    ">>- 'roc_auc' was used as scoring criteria.\n",
    ">>- H2o settled for StackedEnsemble.\n",
    ">>- Model worked moderately on Training data but poorly on Testing data\n",
    "\n",
    "\n",
    "## Conclusions\n",
    ">- Unfortunately both libraries didn't perform good on testing data. H2o gave slightly better results as compare to TPOT but no where acceptable.\n",
    ">- Both libraries took too long to train, it is only fair since it trains multiple models but poor performance calls for multiple experiments with hypertuning and some more research. "
   ]
  },
  {
   "cell_type": "code",
   "execution_count": 1,
   "metadata": {},
   "outputs": [],
   "source": [
    "import pandas as pd\n",
    "import numpy as np\n",
    "from tpot import TPOTClassifier\n",
    "from sklearn.metrics import classification_report, confusion_matrix\n",
    "from sklearn.model_selection import train_test_split"
   ]
  },
  {
   "cell_type": "code",
   "execution_count": 9,
   "metadata": {},
   "outputs": [],
   "source": [
    "# confusion matrix plot\n",
    "def plot_cm(cm):\n",
    "    import seaborn as sns\n",
    "    import matplotlib.pyplot as plt\n",
    "    sns.heatmap(cm, annot=True,cmap=\"OrRd\",fmt='g')\n",
    "    plt.title('confusion matrix')\n",
    "    plt.xlabel('predicted')\n",
    "    plt.ylabel('actual')\n",
    "    plt.show()"
   ]
  },
  {
   "cell_type": "code",
   "execution_count": 10,
   "metadata": {},
   "outputs": [],
   "source": [
    "# plots ROC curve\n",
    "def ROC(y_test,probs):\n",
    "    import sklearn.metrics as metrics\n",
    "    fpr, tpr, threshold = metrics.roc_curve(y_test, probs)\n",
    "    roc_auc = metrics.auc(fpr, tpr)\n",
    "\n",
    "    plt.title('Receiver Operating Characteristic')\n",
    "    plt.plot(fpr, tpr, 'b', label = f'AUC = {round(roc_auc,3)}')\n",
    "    plt.legend(loc = 'lower right')\n",
    "    plt.plot([0, 1], [0, 1],'r--')\n",
    "    plt.xlim([0, 1])\n",
    "    plt.ylim([0, 1])\n",
    "    plt.ylabel('True Positive Rate')\n",
    "    plt.xlabel('False Positive Rate')\n",
    "    plt.show()"
   ]
  },
  {
   "cell_type": "code",
   "execution_count": 11,
   "metadata": {},
   "outputs": [],
   "source": [
    "\n",
    "def bins_edges(bin_size = 0.01,min_edge = 0.5,max_edge = 1):\n",
    "    bin_size = bin_size; min_edge = min_edge; max_edge = max_edge\n",
    "    N = (max_edge-min_edge)/bin_size; Nplus1 = round(N) + 1\n",
    "    bins = np.linspace(min_edge, max_edge, Nplus1)\n",
    "    return bins\n",
    "\n",
    "def bars(df,cls = 0, bins = bins_edges()):\n",
    "    groups = df.groupby(pd.cut(fpr_df.probs, bins = bins))\n",
    "    FPR_list = list()\n",
    "    for grp in groups:\n",
    "        grp = pd.DataFrame(grp[1])\n",
    "        if grp.empty:\n",
    "            FPR_list.append(0)  \n",
    "        else:\n",
    "            FPR = grp[grp['class'] == cls].shape[0]/grp.shape[0]\n",
    "            FPR_list.append(FPR)\n",
    "    return FPR_list\n",
    "\n",
    "def plot_hist(df,cls = 0,bin_size = 0.1,title=None,xlabel=None,ylabel=None):\n",
    "    bins = bins_edges(bin_size = bin_size)\n",
    "    height = bars(df = df,bins = bins,cls = cls)\n",
    "    fig, ax = plt.subplots(figsize=(15, 7))\n",
    "    str_bin = [str(round(x,2)) for x in bins[:-1]]\n",
    "    ax.bar(str_bin,height,align='edge',width = 0.9)\n",
    "    ax.tick_params(axis='x', rotation=45)\n",
    "    \n",
    "    if title:\n",
    "        ax.set_title(title)\n",
    "    if xlabel:\n",
    "        ax.set_ylabel(ylabel)\n",
    "    if ylabel:\n",
    "        ax.set_xlabel(xlabel)"
   ]
  },
  {
   "cell_type": "code",
   "execution_count": 4,
   "metadata": {},
   "outputs": [
    {
     "data": {
      "text/html": [
       "<div>\n",
       "<style scoped>\n",
       "    .dataframe tbody tr th:only-of-type {\n",
       "        vertical-align: middle;\n",
       "    }\n",
       "\n",
       "    .dataframe tbody tr th {\n",
       "        vertical-align: top;\n",
       "    }\n",
       "\n",
       "    .dataframe thead th {\n",
       "        text-align: right;\n",
       "    }\n",
       "</style>\n",
       "<table border=\"1\" class=\"dataframe\">\n",
       "  <thead>\n",
       "    <tr style=\"text-align: right;\">\n",
       "      <th></th>\n",
       "      <th>g_id</th>\n",
       "      <th>fyear</th>\n",
       "      <th>gvkey</th>\n",
       "      <th>fraud</th>\n",
       "      <th>sale_flag</th>\n",
       "      <th>at_flag</th>\n",
       "      <th>sale/at</th>\n",
       "      <th>at/sale</th>\n",
       "      <th>act/sale</th>\n",
       "      <th>act/at</th>\n",
       "      <th>...</th>\n",
       "      <th>rect/sale</th>\n",
       "      <th>rect/at</th>\n",
       "      <th>sstk/sale</th>\n",
       "      <th>sstk/at</th>\n",
       "      <th>txp/sale</th>\n",
       "      <th>txp/at</th>\n",
       "      <th>txt/sale</th>\n",
       "      <th>txt/at</th>\n",
       "      <th>xint/sale</th>\n",
       "      <th>xint/at</th>\n",
       "    </tr>\n",
       "  </thead>\n",
       "  <tbody>\n",
       "    <tr>\n",
       "      <th>0</th>\n",
       "      <td>100001990</td>\n",
       "      <td>1990.0</td>\n",
       "      <td>10000.0</td>\n",
       "      <td>0.0</td>\n",
       "      <td>0</td>\n",
       "      <td>0</td>\n",
       "      <td>1.203083</td>\n",
       "      <td>0.831198</td>\n",
       "      <td>0.631982</td>\n",
       "      <td>0.760326</td>\n",
       "      <td>...</td>\n",
       "      <td>0.159846</td>\n",
       "      <td>0.192308</td>\n",
       "      <td>0.000024</td>\n",
       "      <td>0.000028</td>\n",
       "      <td>0.001105</td>\n",
       "      <td>0.001329</td>\n",
       "      <td>0.003804</td>\n",
       "      <td>0.004577</td>\n",
       "      <td>0.037299</td>\n",
       "      <td>0.044873</td>\n",
       "    </tr>\n",
       "    <tr>\n",
       "      <th>1</th>\n",
       "      <td>100001991</td>\n",
       "      <td>1991.0</td>\n",
       "      <td>10000.0</td>\n",
       "      <td>0.0</td>\n",
       "      <td>0</td>\n",
       "      <td>0</td>\n",
       "      <td>1.361683</td>\n",
       "      <td>0.734385</td>\n",
       "      <td>0.545042</td>\n",
       "      <td>0.742175</td>\n",
       "      <td>...</td>\n",
       "      <td>0.146434</td>\n",
       "      <td>0.199397</td>\n",
       "      <td>0.000037</td>\n",
       "      <td>0.000051</td>\n",
       "      <td>0.000922</td>\n",
       "      <td>0.001255</td>\n",
       "      <td>0.002201</td>\n",
       "      <td>0.002997</td>\n",
       "      <td>0.032109</td>\n",
       "      <td>0.043722</td>\n",
       "    </tr>\n",
       "    <tr>\n",
       "      <th>2</th>\n",
       "      <td>100001992</td>\n",
       "      <td>1992.0</td>\n",
       "      <td>10000.0</td>\n",
       "      <td>0.0</td>\n",
       "      <td>0</td>\n",
       "      <td>0</td>\n",
       "      <td>1.428408</td>\n",
       "      <td>0.700080</td>\n",
       "      <td>0.495408</td>\n",
       "      <td>0.707644</td>\n",
       "      <td>...</td>\n",
       "      <td>0.156451</td>\n",
       "      <td>0.223476</td>\n",
       "      <td>0.000037</td>\n",
       "      <td>0.000053</td>\n",
       "      <td>0.003290</td>\n",
       "      <td>0.004700</td>\n",
       "      <td>0.003626</td>\n",
       "      <td>0.005180</td>\n",
       "      <td>0.023040</td>\n",
       "      <td>0.032910</td>\n",
       "    </tr>\n",
       "    <tr>\n",
       "      <th>3</th>\n",
       "      <td>100001993</td>\n",
       "      <td>1993.0</td>\n",
       "      <td>10000.0</td>\n",
       "      <td>0.0</td>\n",
       "      <td>0</td>\n",
       "      <td>0</td>\n",
       "      <td>1.376801</td>\n",
       "      <td>0.726321</td>\n",
       "      <td>0.521222</td>\n",
       "      <td>0.717620</td>\n",
       "      <td>...</td>\n",
       "      <td>0.167717</td>\n",
       "      <td>0.230913</td>\n",
       "      <td>0.008726</td>\n",
       "      <td>0.012014</td>\n",
       "      <td>0.007921</td>\n",
       "      <td>0.010906</td>\n",
       "      <td>0.014081</td>\n",
       "      <td>0.019386</td>\n",
       "      <td>0.021179</td>\n",
       "      <td>0.029159</td>\n",
       "    </tr>\n",
       "    <tr>\n",
       "      <th>4</th>\n",
       "      <td>100001994</td>\n",
       "      <td>1994.0</td>\n",
       "      <td>10000.0</td>\n",
       "      <td>0.0</td>\n",
       "      <td>0</td>\n",
       "      <td>0</td>\n",
       "      <td>1.365206</td>\n",
       "      <td>0.732490</td>\n",
       "      <td>0.524201</td>\n",
       "      <td>0.715642</td>\n",
       "      <td>...</td>\n",
       "      <td>0.182585</td>\n",
       "      <td>0.249266</td>\n",
       "      <td>0.000840</td>\n",
       "      <td>0.001146</td>\n",
       "      <td>0.000000</td>\n",
       "      <td>0.000000</td>\n",
       "      <td>0.018308</td>\n",
       "      <td>0.024994</td>\n",
       "      <td>0.019176</td>\n",
       "      <td>0.026179</td>\n",
       "    </tr>\n",
       "  </tbody>\n",
       "</table>\n",
       "<p>5 rows × 58 columns</p>\n",
       "</div>"
      ],
      "text/plain": [
       "        g_id   fyear    gvkey  fraud  sale_flag  at_flag   sale/at   at/sale  \\\n",
       "0  100001990  1990.0  10000.0    0.0          0        0  1.203083  0.831198   \n",
       "1  100001991  1991.0  10000.0    0.0          0        0  1.361683  0.734385   \n",
       "2  100001992  1992.0  10000.0    0.0          0        0  1.428408  0.700080   \n",
       "3  100001993  1993.0  10000.0    0.0          0        0  1.376801  0.726321   \n",
       "4  100001994  1994.0  10000.0    0.0          0        0  1.365206  0.732490   \n",
       "\n",
       "   act/sale    act/at  ...  rect/sale   rect/at  sstk/sale   sstk/at  \\\n",
       "0  0.631982  0.760326  ...   0.159846  0.192308   0.000024  0.000028   \n",
       "1  0.545042  0.742175  ...   0.146434  0.199397   0.000037  0.000051   \n",
       "2  0.495408  0.707644  ...   0.156451  0.223476   0.000037  0.000053   \n",
       "3  0.521222  0.717620  ...   0.167717  0.230913   0.008726  0.012014   \n",
       "4  0.524201  0.715642  ...   0.182585  0.249266   0.000840  0.001146   \n",
       "\n",
       "   txp/sale    txp/at  txt/sale    txt/at  xint/sale   xint/at  \n",
       "0  0.001105  0.001329  0.003804  0.004577   0.037299  0.044873  \n",
       "1  0.000922  0.001255  0.002201  0.002997   0.032109  0.043722  \n",
       "2  0.003290  0.004700  0.003626  0.005180   0.023040  0.032910  \n",
       "3  0.007921  0.010906  0.014081  0.019386   0.021179  0.029159  \n",
       "4  0.000000  0.000000  0.018308  0.024994   0.019176  0.026179  \n",
       "\n",
       "[5 rows x 58 columns]"
      ]
     },
     "execution_count": 4,
     "metadata": {},
     "output_type": "execute_result"
    }
   ],
   "source": [
    "# Reading university dataset\n",
    "df = pd.read_csv(\"Dataset/uni_ratios_fraud.csv\",sep = ';')\n",
    "df.head()"
   ]
  },
  {
   "cell_type": "code",
   "execution_count": 5,
   "metadata": {},
   "outputs": [],
   "source": [
    "# Splitting data in 80/20 ratio with a random seed of 42 to get consistent results.\n",
    "X_train, X_test, y_train, y_test = train_test_split(df.iloc[:,4:], df[['fraud']],test_size=0.20,random_state = 42)"
   ]
  },
  {
   "cell_type": "code",
   "execution_count": 6,
   "metadata": {},
   "outputs": [],
   "source": [
    "# Standardizing the data\n",
    "from sklearn import preprocessing\n",
    "scaler = preprocessing.StandardScaler().fit(X_train)\n",
    "X_train = scaler.transform(X_train)\n",
    "X_test = scaler.transform(X_test)"
   ]
  },
  {
   "cell_type": "code",
   "execution_count": 69,
   "metadata": {},
   "outputs": [],
   "source": [
    "# import random\n",
    "# random.seed(42)\n",
    "# all_index = y_test[y_test == 0].index.tolist()\n",
    "# index = random.sample(all_index, 175)"
   ]
  },
  {
   "cell_type": "code",
   "execution_count": 70,
   "metadata": {},
   "outputs": [],
   "source": [
    "# y_train = pd.concat([y_train,y_test[~y_test.index.isin(index)]],axis = 0)\n",
    "# X_train = pd.concat([X_train,X_test[~y_test.index.isin(index)]],axis = 0)\n",
    "# X_sub_test = pd.concat([X_test[X_test.index.isin(index)],X_test[y_test.fraud == 1]],axis = 0)\n",
    "# y_sub_test = pd.concat([y_test[y_test.index.isin(index)],y_test[y_test.fraud == 1]],axis = 0)"
   ]
  },
  {
   "cell_type": "code",
   "execution_count": 7,
   "metadata": {},
   "outputs": [
    {
     "data": {
      "text/plain": [
       "175"
      ]
     },
     "execution_count": 7,
     "metadata": {},
     "output_type": "execute_result"
    }
   ],
   "source": [
    "sum(y_test.fraud == 1)"
   ]
  },
  {
   "cell_type": "markdown",
   "metadata": {},
   "source": [
    "## TPOT"
   ]
  },
  {
   "cell_type": "markdown",
   "metadata": {},
   "source": [
    "#### Running with 10 generations"
   ]
  },
  {
   "cell_type": "code",
   "execution_count": 7,
   "metadata": {
    "scrolled": false
   },
   "outputs": [
    {
     "name": "stderr",
     "output_type": "stream",
     "text": [
      "C:\\Users\\umaid\\anaconda3\\lib\\site-packages\\sklearn\\utils\\validation.py:72: DataConversionWarning: A column-vector y was passed when a 1d array was expected. Please change the shape of y to (n_samples, ), for example using ravel().\n",
      "  return f(**kwargs)\n",
      "C:\\Users\\umaid\\anaconda3\\lib\\site-packages\\tpot\\tpot.py:66: SettingWithCopyWarning: \n",
      "A value is trying to be set on a copy of a slice from a DataFrame.\n",
      "Try using .loc[row_indexer,col_indexer] = value instead\n",
      "\n",
      "See the caveats in the documentation: https://pandas.pydata.org/pandas-docs/stable/user_guide/indexing.html#returning-a-view-versus-a-copy\n",
      "  _safe_indexing(target, unique_target_idx)\n",
      "C:\\Users\\umaid\\anaconda3\\lib\\site-packages\\pandas\\core\\frame.py:2945: SettingWithCopyWarning: \n",
      "A value is trying to be set on a copy of a slice from a DataFrame\n",
      "\n",
      "See the caveats in the documentation: https://pandas.pydata.org/pandas-docs/stable/user_guide/indexing.html#returning-a-view-versus-a-copy\n",
      "  self.loc._setitem_with_indexer(key, value)\n",
      "C:\\Users\\umaid\\anaconda3\\lib\\site-packages\\pandas\\core\\frame.py:2930: SettingWithCopyWarning: \n",
      "A value is trying to be set on a copy of a slice from a DataFrame\n",
      "\n",
      "See the caveats in the documentation: https://pandas.pydata.org/pandas-docs/stable/user_guide/indexing.html#returning-a-view-versus-a-copy\n",
      "  return self._setitem_slice(indexer, value)\n"
     ]
    },
    {
     "data": {
      "application/vnd.jupyter.widget-view+json": {
       "model_id": "",
       "version_major": 2,
       "version_minor": 0
      },
      "text/plain": [
       "HBox(children=(FloatProgress(value=0.0, description='Optimization Progress', max=330.0, style=ProgressStyle(de…"
      ]
     },
     "metadata": {},
     "output_type": "display_data"
    },
    {
     "name": "stdout",
     "output_type": "stream",
     "text": [
      "\n",
      "Generation 1 - Current best internal CV score: 0.8151146802811159\n",
      "Generation 2 - Current best internal CV score: 0.8151146802811159\n",
      "Generation 3 - Current best internal CV score: 0.8151146802811159\n",
      "Generation 4 - Current best internal CV score: 0.8220494523249391\n",
      "Generation 5 - Current best internal CV score: 0.8232347488064707\n",
      "Generation 6 - Current best internal CV score: 0.8232347488064707\n",
      "Generation 7 - Current best internal CV score: 0.8338299515594738\n",
      "Generation 8 - Current best internal CV score: 0.8338299515594738\n",
      "Generation 9 - Current best internal CV score: 0.8338299515594738\n",
      "Generation 10 - Current best internal CV score: 0.8338299515594738\n",
      "Best pipeline: ExtraTreesClassifier(GaussianNB(input_matrix), bootstrap=True, criterion=gini, max_features=0.45, min_samples_leaf=9, min_samples_split=3, n_estimators=100)\n"
     ]
    },
    {
     "name": "stderr",
     "output_type": "stream",
     "text": [
      "C:\\Users\\umaid\\anaconda3\\lib\\site-packages\\sklearn\\utils\\validation.py:72: DataConversionWarning: A column-vector y was passed when a 1d array was expected. Please change the shape of y to (n_samples, ), for example using ravel().\n",
      "  return f(**kwargs)\n"
     ]
    },
    {
     "name": "stdout",
     "output_type": "stream",
     "text": [
      "0.8316967299422352\n"
     ]
    }
   ],
   "source": [
    "tpot = TPOTClassifier(generations=10, population_size=30, verbosity=2,n_jobs = -1,scoring = 'roc_auc')\n",
    "\n",
    "tpot.fit(X_train, y_train)\n",
    "print(tpot.score(X_test, y_test))\n",
    "tpot.export('tpot_digits_pipeline.py')"
   ]
  },
  {
   "cell_type": "code",
   "execution_count": 11,
   "metadata": {},
   "outputs": [
    {
     "name": "stderr",
     "output_type": "stream",
     "text": [
      "C:\\Users\\umaid\\anaconda3\\lib\\site-packages\\sklearn\\metrics\\_classification.py:1221: UndefinedMetricWarning: Precision and F-score are ill-defined and being set to 0.0 in labels with no predicted samples. Use `zero_division` parameter to control this behavior.\n",
      "  _warn_prf(average, modifier, msg_start, len(result))\n"
     ]
    },
    {
     "name": "stdout",
     "output_type": "stream",
     "text": [
      "              precision    recall  f1-score   support\n",
      "\n",
      "         0.0       0.99      1.00      1.00    116047\n",
      "         1.0       0.00      0.00      0.00       789\n",
      "\n",
      "    accuracy                           0.99    116836\n",
      "   macro avg       0.50      0.50      0.50    116836\n",
      "weighted avg       0.99      0.99      0.99    116836\n",
      "\n"
     ]
    },
    {
     "data": {
      "image/png": "[encoded data removed]",
      "text/plain": [
       "<Figure size 432x288 with 2 Axes>"
      ]
     },
     "metadata": {
      "needs_background": "light"
     },
     "output_type": "display_data"
    }
   ],
   "source": [
    "train_pred = tpot.predict(X_train)\n",
    "print(classification_report(y_train,train_pred))\n",
    "cm = confusion_matrix(y_train,train_pred)\n",
    "plot_cm(cm)"
   ]
  },
  {
   "cell_type": "code",
   "execution_count": 12,
   "metadata": {
    "scrolled": false
   },
   "outputs": [
    {
     "name": "stdout",
     "output_type": "stream",
     "text": [
      "              precision    recall  f1-score   support\n",
      "\n",
      "         0.0       0.99      1.00      1.00     29034\n",
      "         1.0       0.00      0.00      0.00       175\n",
      "\n",
      "    accuracy                           0.99     29209\n",
      "   macro avg       0.50      0.50      0.50     29209\n",
      "weighted avg       0.99      0.99      0.99     29209\n",
      "\n"
     ]
    },
    {
     "name": "stderr",
     "output_type": "stream",
     "text": [
      "C:\\Users\\umaid\\anaconda3\\lib\\site-packages\\sklearn\\metrics\\_classification.py:1221: UndefinedMetricWarning: Precision and F-score are ill-defined and being set to 0.0 in labels with no predicted samples. Use `zero_division` parameter to control this behavior.\n",
      "  _warn_prf(average, modifier, msg_start, len(result))\n"
     ]
    },
    {
     "data": {
      "image/png": "[encoded data removed]",
      "text/plain": [
       "<Figure size 432x288 with 2 Axes>"
      ]
     },
     "metadata": {
      "needs_background": "light"
     },
     "output_type": "display_data"
    }
   ],
   "source": [
    "pred = tpot.predict(X_test)\n",
    "cm = confusion_matrix(y_test,pred)\n",
    "print(classification_report(y_test,pred))\n",
    "plot_cm(cm)"
   ]
  },
  {
   "cell_type": "markdown",
   "metadata": {},
   "source": [
    "#### Running with 50 generations"
   ]
  },
  {
   "cell_type": "code",
   "execution_count": 83,
   "metadata": {
    "scrolled": false
   },
   "outputs": [
    {
     "name": "stderr",
     "output_type": "stream",
     "text": [
      "C:\\Users\\umaid\\anaconda3\\lib\\site-packages\\sklearn\\utils\\validation.py:72: DataConversionWarning: A column-vector y was passed when a 1d array was expected. Please change the shape of y to (n_samples, ), for example using ravel().\n",
      "  return f(**kwargs)\n",
      "C:\\Users\\umaid\\anaconda3\\lib\\site-packages\\tpot\\tpot.py:66: SettingWithCopyWarning: \n",
      "A value is trying to be set on a copy of a slice from a DataFrame.\n",
      "Try using .loc[row_indexer,col_indexer] = value instead\n",
      "\n",
      "See the caveats in the documentation: https://pandas.pydata.org/pandas-docs/stable/user_guide/indexing.html#returning-a-view-versus-a-copy\n",
      "  _safe_indexing(target, unique_target_idx)\n",
      "C:\\Users\\umaid\\anaconda3\\lib\\site-packages\\pandas\\core\\frame.py:2945: SettingWithCopyWarning: \n",
      "A value is trying to be set on a copy of a slice from a DataFrame\n",
      "\n",
      "See the caveats in the documentation: https://pandas.pydata.org/pandas-docs/stable/user_guide/indexing.html#returning-a-view-versus-a-copy\n",
      "  self.loc._setitem_with_indexer(key, value)\n",
      "C:\\Users\\umaid\\anaconda3\\lib\\site-packages\\pandas\\core\\frame.py:2930: SettingWithCopyWarning: \n",
      "A value is trying to be set on a copy of a slice from a DataFrame\n",
      "\n",
      "See the caveats in the documentation: https://pandas.pydata.org/pandas-docs/stable/user_guide/indexing.html#returning-a-view-versus-a-copy\n",
      "  return self._setitem_slice(indexer, value)\n"
     ]
    },
    {
     "data": {
      "application/vnd.jupyter.widget-view+json": {
       "model_id": "",
       "version_major": 2,
       "version_minor": 0
      },
      "text/plain": [
       "HBox(children=(FloatProgress(value=0.0, description='Optimization Progress', max=1530.0, style=ProgressStyle(d…"
      ]
     },
     "metadata": {},
     "output_type": "display_data"
    },
    {
     "name": "stdout",
     "output_type": "stream",
     "text": [
      "\n",
      "Generation 1 - Current best internal CV score: 0.1991185500638234\n",
      "Generation 2 - Current best internal CV score: 0.1991185500638234\n",
      "Generation 3 - Current best internal CV score: 0.1991185500638234\n",
      "Generation 4 - Current best internal CV score: 0.2153860466016607\n",
      "Generation 5 - Current best internal CV score: 0.2391069835668417\n",
      "Generation 6 - Current best internal CV score: 0.2391069835668417\n",
      "Generation 7 - Current best internal CV score: 0.2391069835668417\n",
      "Generation 8 - Current best internal CV score: 0.2391069835668417\n",
      "Generation 9 - Current best internal CV score: 0.2391069835668417\n",
      "Generation 10 - Current best internal CV score: 0.2391069835668417\n",
      "Generation 11 - Current best internal CV score: 0.2391069835668417\n",
      "Generation 12 - Current best internal CV score: 0.2391069835668417\n",
      "Generation 13 - Current best internal CV score: 0.24564336720938468\n",
      "Generation 14 - Current best internal CV score: 0.2596254738262252\n",
      "Generation 15 - Current best internal CV score: 0.2596254738262252\n",
      "Generation 16 - Current best internal CV score: 0.2596254738262252\n",
      "Generation 17 - Current best internal CV score: 0.2596254738262252\n",
      "Generation 18 - Current best internal CV score: 0.2596254738262252\n",
      "Generation 19 - Current best internal CV score: 0.26255247527992676\n",
      "Generation 20 - Current best internal CV score: 0.26255247527992676\n",
      "Generation 21 - Current best internal CV score: 0.26255247527992676\n",
      "Generation 22 - Current best internal CV score: 0.26255247527992676\n",
      "Generation 23 - Current best internal CV score: 0.26255247527992676\n",
      "Generation 24 - Current best internal CV score: 0.26255247527992676\n",
      "Generation 25 - Current best internal CV score: 0.26327256796621024\n",
      "Generation 26 - Current best internal CV score: 0.26327256796621024\n",
      "Generation 27 - Current best internal CV score: 0.26470361161527334\n",
      "Generation 28 - Current best internal CV score: 0.26470361161527334\n",
      "Generation 29 - Current best internal CV score: 0.26470361161527334\n",
      "Generation 30 - Current best internal CV score: 0.26470361161527334\n",
      "Generation 31 - Current best internal CV score: 0.27121904396056173\n",
      "Generation 32 - Current best internal CV score: 0.27121904396056173\n",
      "Generation 33 - Current best internal CV score: 0.27121904396056173\n",
      "Generation 34 - Current best internal CV score: 0.27121904396056173\n",
      "Generation 35 - Current best internal CV score: 0.27121904396056173\n",
      "Generation 36 - Current best internal CV score: 0.27121904396056173\n",
      "Generation 37 - Current best internal CV score: 0.27121904396056173\n",
      "Generation 38 - Current best internal CV score: 0.27121904396056173\n",
      "Generation 39 - Current best internal CV score: 0.27121904396056173\n",
      "Generation 40 - Current best internal CV score: 0.27121904396056173\n",
      "Generation 41 - Current best internal CV score: 0.27121904396056173\n",
      "Generation 42 - Current best internal CV score: 0.27406663204665144\n",
      "Generation 43 - Current best internal CV score: 0.27406663204665144\n",
      "Generation 44 - Current best internal CV score: 0.27406663204665144\n",
      "Generation 45 - Current best internal CV score: 0.27406663204665144\n",
      "Generation 46 - Current best internal CV score: 0.27406663204665144\n",
      "Generation 47 - Current best internal CV score: 0.27406663204665144\n",
      "Generation 48 - Current best internal CV score: 0.27406663204665144\n",
      "Generation 49 - Current best internal CV score: 0.27406663204665144\n",
      "Generation 50 - Current best internal CV score: 0.27406663204665144\n",
      "Best pipeline: ExtraTreesClassifier(Normalizer(input_matrix, norm=l2), bootstrap=False, criterion=entropy, max_features=0.55, min_samples_leaf=2, min_samples_split=5, n_estimators=100)\n"
     ]
    },
    {
     "name": "stderr",
     "output_type": "stream",
     "text": [
      "C:\\Users\\umaid\\anaconda3\\lib\\site-packages\\sklearn\\utils\\validation.py:72: DataConversionWarning: A column-vector y was passed when a 1d array was expected. Please change the shape of y to (n_samples, ), for example using ravel().\n",
      "  return f(**kwargs)\n"
     ]
    },
    {
     "name": "stdout",
     "output_type": "stream",
     "text": [
      "0.2701067370824614\n"
     ]
    }
   ],
   "source": [
    "tpot = TPOTClassifier(generations=50, population_size=30, verbosity=2,n_jobs = -1,scoring = 'average_precision')\n",
    "\n",
    "tpot.fit(X_train, y_train)\n",
    "print(tpot.score(X_test, y_test))\n",
    "tpot.export('tpot_digits_pipeline.py')"
   ]
  },
  {
   "cell_type": "code",
   "execution_count": 109,
   "metadata": {
    "scrolled": false
   },
   "outputs": [
    {
     "name": "stdout",
     "output_type": "stream",
     "text": [
      "              precision    recall  f1-score   support\n",
      "\n",
      "         0.0       1.00      1.00      1.00    116047\n",
      "         1.0       1.00      0.93      0.97       789\n",
      "\n",
      "    accuracy                           1.00    116836\n",
      "   macro avg       1.00      0.97      0.98    116836\n",
      "weighted avg       1.00      1.00      1.00    116836\n",
      "\n"
     ]
    },
    {
     "data": {
      "image/png": "[encoded data removed]",
      "text/plain": [
       "<Figure size 432x288 with 2 Axes>"
      ]
     },
     "metadata": {
      "needs_background": "light"
     },
     "output_type": "display_data"
    }
   ],
   "source": [
    "train_pred = tpot.predict(X_train)\n",
    "print(classification_report(y_train,train_pred))\n",
    "cm = confusion_matrix(y_train,train_pred)\n",
    "plot_cm(cm)"
   ]
  },
  {
   "cell_type": "code",
   "execution_count": 111,
   "metadata": {},
   "outputs": [
    {
     "name": "stdout",
     "output_type": "stream",
     "text": [
      "              precision    recall  f1-score   support\n",
      "\n",
      "         0.0       0.99      1.00      1.00     29034\n",
      "         1.0       0.50      0.01      0.01       175\n",
      "\n",
      "    accuracy                           0.99     29209\n",
      "   macro avg       0.75      0.50      0.50     29209\n",
      "weighted avg       0.99      0.99      0.99     29209\n",
      "\n"
     ]
    },
    {
     "data": {
      "image/png": "[encoded data removed]",
      "text/plain": [
       "<Figure size 432x288 with 2 Axes>"
      ]
     },
     "metadata": {
      "needs_background": "light"
     },
     "output_type": "display_data"
    }
   ],
   "source": [
    "pred = tpot.predict(X_test)\n",
    "cm = confusion_matrix(y_test,pred)\n",
    "print(classification_report(y_test,pred))\n",
    "plot_cm(cm)"
   ]
  },
  {
   "cell_type": "markdown",
   "metadata": {},
   "source": [
    "## h2o"
   ]
  },
  {
   "cell_type": "code",
   "execution_count": 121,
   "metadata": {},
   "outputs": [
    {
     "name": "stdout",
     "output_type": "stream",
     "text": [
      "Checking whether there is an H2O instance running at http://localhost:54321 ..... not found.\n",
      "Attempting to start a local H2O server...\n",
      "; Java HotSpot(TM) 64-Bit Server VM 18.9 (build 11.0.8+10-LTS, mixed mode)\n",
      "  Starting server from C:\\Users\\umaid\\anaconda3\\lib\\site-packages\\h2o\\backend\\bin\\h2o.jar\n",
      "  Ice root: C:\\Users\\umaid\\AppData\\Local\\Temp\\tmp5zvdsi3s\n",
      "  JVM stdout: C:\\Users\\umaid\\AppData\\Local\\Temp\\tmp5zvdsi3s\\h2o_umaid_started_from_python.out\n",
      "  JVM stderr: C:\\Users\\umaid\\AppData\\Local\\Temp\\tmp5zvdsi3s\\h2o_umaid_started_from_python.err\n",
      "  Server is running at http://127.0.0.1:54321\n",
      "Connecting to H2O server at http://127.0.0.1:54321 ... successful.\n"
     ]
    },
    {
     "data": {
      "text/html": [
       "<div style=\"overflow:auto\"><table style=\"width:50%\"><tr><td>H2O_cluster_uptime:</td>\n",
       "<td>02 secs</td></tr>\n",
       "<tr><td>H2O_cluster_timezone:</td>\n",
       "<td>Asia/Karachi</td></tr>\n",
       "<tr><td>H2O_data_parsing_timezone:</td>\n",
       "<td>UTC</td></tr>\n",
       "<tr><td>H2O_cluster_version:</td>\n",
       "<td>3.30.1.3</td></tr>\n",
       "<tr><td>H2O_cluster_version_age:</td>\n",
       "<td>15 days </td></tr>\n",
       "<tr><td>H2O_cluster_name:</td>\n",
       "<td>H2O_from_python_umaid_0phg25</td></tr>\n",
       "<tr><td>H2O_cluster_total_nodes:</td>\n",
       "<td>1</td></tr>\n",
       "<tr><td>H2O_cluster_free_memory:</td>\n",
       "<td>3.971 Gb</td></tr>\n",
       "<tr><td>H2O_cluster_total_cores:</td>\n",
       "<td>12</td></tr>\n",
       "<tr><td>H2O_cluster_allowed_cores:</td>\n",
       "<td>12</td></tr>\n",
       "<tr><td>H2O_cluster_status:</td>\n",
       "<td>accepting new members, healthy</td></tr>\n",
       "<tr><td>H2O_connection_url:</td>\n",
       "<td>http://127.0.0.1:54321</td></tr>\n",
       "<tr><td>H2O_connection_proxy:</td>\n",
       "<td>{\"http\": null, \"https\": null}</td></tr>\n",
       "<tr><td>H2O_internal_security:</td>\n",
       "<td>False</td></tr>\n",
       "<tr><td>H2O_API_Extensions:</td>\n",
       "<td>Amazon S3, Algos, AutoML, Core V3, TargetEncoder, Core V4</td></tr>\n",
       "<tr><td>Python_version:</td>\n",
       "<td>3.7.6 final</td></tr></table></div>"
      ],
      "text/plain": [
       "--------------------------  ---------------------------------------------------------\n",
       "H2O_cluster_uptime:         02 secs\n",
       "H2O_cluster_timezone:       Asia/Karachi\n",
       "H2O_data_parsing_timezone:  UTC\n",
       "H2O_cluster_version:        3.30.1.3\n",
       "H2O_cluster_version_age:    15 days\n",
       "H2O_cluster_name:           H2O_from_python_umaid_0phg25\n",
       "H2O_cluster_total_nodes:    1\n",
       "H2O_cluster_free_memory:    3.971 Gb\n",
       "H2O_cluster_total_cores:    12\n",
       "H2O_cluster_allowed_cores:  12\n",
       "H2O_cluster_status:         accepting new members, healthy\n",
       "H2O_connection_url:         http://127.0.0.1:54321\n",
       "H2O_connection_proxy:       {\"http\": null, \"https\": null}\n",
       "H2O_internal_security:      False\n",
       "H2O_API_Extensions:         Amazon S3, Algos, AutoML, Core V3, TargetEncoder, Core V4\n",
       "Python_version:             3.7.6 final\n",
       "--------------------------  ---------------------------------------------------------"
      ]
     },
     "metadata": {},
     "output_type": "display_data"
    }
   ],
   "source": [
    "import h2o\n",
    "from h2o.automl import H2OAutoML\n",
    "h2o.init()"
   ]
  },
  {
   "cell_type": "code",
   "execution_count": 380,
   "metadata": {},
   "outputs": [
    {
     "name": "stdout",
     "output_type": "stream",
     "text": [
      "Parse progress: |█████████████████████████████████████████████████████████| 100%\n"
     ]
    }
   ],
   "source": [
    "h_df = h2o.H2OFrame(df)"
   ]
  },
  {
   "cell_type": "code",
   "execution_count": 381,
   "metadata": {},
   "outputs": [],
   "source": [
    "factorslist = ['fraud']\n",
    "h_df[factorslist] = h_df[factorslist].asfactor()"
   ]
  },
  {
   "cell_type": "code",
   "execution_count": 382,
   "metadata": {},
   "outputs": [],
   "source": [
    "y = \"fraud\"\n",
    "x = h_df.columns\n",
    "x.remove(y)\n",
    "x.remove('g_id')\n",
    "x.remove('fyear')\n",
    "x.remove('gvkey')"
   ]
  },
  {
   "cell_type": "code",
   "execution_count": 383,
   "metadata": {},
   "outputs": [],
   "source": [
    "train,test = h_df.split_frame([0.8],seed = 42)"
   ]
  },
  {
   "cell_type": "code",
   "execution_count": 367,
   "metadata": {},
   "outputs": [
    {
     "name": "stdout",
     "output_type": "stream",
     "text": [
      "AutoML progress: |\n",
      "21:46:53.347: AutoML: XGBoost is not available; skipping it.\n",
      "\n",
      "████████████████████████████████████████████████████████| 100%\n"
     ]
    }
   ],
   "source": [
    "aml = H2OAutoML(max_models = 25, seed = 1,stopping_metric = \"auc\",balance_classes= True)\n",
    "aml.train(x = x, y = y, training_frame = train)"
   ]
  },
  {
   "cell_type": "code",
   "execution_count": 368,
   "metadata": {},
   "outputs": [
    {
     "data": {
      "text/html": [
       "<table>\n",
       "<thead>\n",
       "<tr><th>model_id                                           </th><th style=\"text-align: right;\">     auc</th><th style=\"text-align: right;\">  logloss</th><th style=\"text-align: right;\">    aucpr</th><th style=\"text-align: right;\">  mean_per_class_error</th><th style=\"text-align: right;\">     rmse</th><th style=\"text-align: right;\">       mse</th></tr>\n",
       "</thead>\n",
       "<tbody>\n",
       "<tr><td>StackedEnsemble_AllModels_AutoML_20201014_214653   </td><td style=\"text-align: right;\">0.815756</td><td style=\"text-align: right;\">0.0348749</td><td style=\"text-align: right;\">0.0610182</td><td style=\"text-align: right;\">              0.432264</td><td style=\"text-align: right;\">0.0794874</td><td style=\"text-align: right;\">0.00631825</td></tr>\n",
       "<tr><td>StackedEnsemble_BestOfFamily_AutoML_20201014_214653</td><td style=\"text-align: right;\">0.808939</td><td style=\"text-align: right;\">0.0360654</td><td style=\"text-align: right;\">0.0534716</td><td style=\"text-align: right;\">              0.450264</td><td style=\"text-align: right;\">0.0799589</td><td style=\"text-align: right;\">0.00639343</td></tr>\n",
       "<tr><td>GBM_grid__1_AutoML_20201014_214653_model_2         </td><td style=\"text-align: right;\">0.802171</td><td style=\"text-align: right;\">0.0487424</td><td style=\"text-align: right;\">0.07197  </td><td style=\"text-align: right;\">              0.440448</td><td style=\"text-align: right;\">0.0805129</td><td style=\"text-align: right;\">0.00648232</td></tr>\n",
       "<tr><td>GBM_4_AutoML_20201014_214653                       </td><td style=\"text-align: right;\">0.801906</td><td style=\"text-align: right;\">0.0420687</td><td style=\"text-align: right;\">0.0634523</td><td style=\"text-align: right;\">              0.438362</td><td style=\"text-align: right;\">0.0802855</td><td style=\"text-align: right;\">0.00644575</td></tr>\n",
       "<tr><td>GBM_3_AutoML_20201014_214653                       </td><td style=\"text-align: right;\">0.799961</td><td style=\"text-align: right;\">0.0383882</td><td style=\"text-align: right;\">0.0458056</td><td style=\"text-align: right;\">              0.456307</td><td style=\"text-align: right;\">0.0801886</td><td style=\"text-align: right;\">0.00643021</td></tr>\n",
       "<tr><td>GBM_grid__1_AutoML_20201014_214653_model_8         </td><td style=\"text-align: right;\">0.799786</td><td style=\"text-align: right;\">0.0389761</td><td style=\"text-align: right;\">0.0480143</td><td style=\"text-align: right;\">              0.440655</td><td style=\"text-align: right;\">0.0802469</td><td style=\"text-align: right;\">0.00643956</td></tr>\n",
       "<tr><td>XRT_1_AutoML_20201014_214653                       </td><td style=\"text-align: right;\">0.79813 </td><td style=\"text-align: right;\">0.0381681</td><td style=\"text-align: right;\">0.0487116</td><td style=\"text-align: right;\">              0.429767</td><td style=\"text-align: right;\">0.080282 </td><td style=\"text-align: right;\">0.0064452 </td></tr>\n",
       "<tr><td>GBM_2_AutoML_20201014_214653                       </td><td style=\"text-align: right;\">0.797034</td><td style=\"text-align: right;\">0.0368472</td><td style=\"text-align: right;\">0.0389355</td><td style=\"text-align: right;\">              0.432224</td><td style=\"text-align: right;\">0.080124 </td><td style=\"text-align: right;\">0.00641985</td></tr>\n",
       "<tr><td>GBM_grid__1_AutoML_20201014_214653_model_4         </td><td style=\"text-align: right;\">0.79544 </td><td style=\"text-align: right;\">0.0370633</td><td style=\"text-align: right;\">0.0473579</td><td style=\"text-align: right;\">              0.444631</td><td style=\"text-align: right;\">0.0801152</td><td style=\"text-align: right;\">0.00641845</td></tr>\n",
       "<tr><td>GBM_5_AutoML_20201014_214653                       </td><td style=\"text-align: right;\">0.793633</td><td style=\"text-align: right;\">0.052121 </td><td style=\"text-align: right;\">0.130175 </td><td style=\"text-align: right;\">              0.410541</td><td style=\"text-align: right;\">0.0803636</td><td style=\"text-align: right;\">0.00645831</td></tr>\n",
       "<tr><td>GBM_1_AutoML_20201014_214653                       </td><td style=\"text-align: right;\">0.791523</td><td style=\"text-align: right;\">0.0366031</td><td style=\"text-align: right;\">0.0328148</td><td style=\"text-align: right;\">              0.454719</td><td style=\"text-align: right;\">0.0801216</td><td style=\"text-align: right;\">0.00641948</td></tr>\n",
       "<tr><td>DRF_1_AutoML_20201014_214653                       </td><td style=\"text-align: right;\">0.787845</td><td style=\"text-align: right;\">0.0389537</td><td style=\"text-align: right;\">0.04803  </td><td style=\"text-align: right;\">              0.428931</td><td style=\"text-align: right;\">0.0803017</td><td style=\"text-align: right;\">0.00644837</td></tr>\n",
       "<tr><td>GBM_grid__1_AutoML_20201014_214653_model_6         </td><td style=\"text-align: right;\">0.780776</td><td style=\"text-align: right;\">0.0361716</td><td style=\"text-align: right;\">0.025691 </td><td style=\"text-align: right;\">              0.423393</td><td style=\"text-align: right;\">0.080126 </td><td style=\"text-align: right;\">0.00642018</td></tr>\n",
       "<tr><td>GBM_grid__1_AutoML_20201014_214653_model_5         </td><td style=\"text-align: right;\">0.779756</td><td style=\"text-align: right;\">0.0547612</td><td style=\"text-align: right;\">0.113245 </td><td style=\"text-align: right;\">              0.424669</td><td style=\"text-align: right;\">0.0804713</td><td style=\"text-align: right;\">0.00647563</td></tr>\n",
       "<tr><td>GBM_grid__1_AutoML_20201014_214653_model_1         </td><td style=\"text-align: right;\">0.778377</td><td style=\"text-align: right;\">0.036257 </td><td style=\"text-align: right;\">0.0294295</td><td style=\"text-align: right;\">              0.476236</td><td style=\"text-align: right;\">0.0801234</td><td style=\"text-align: right;\">0.00641977</td></tr>\n",
       "<tr><td>GBM_grid__1_AutoML_20201014_214653_model_7         </td><td style=\"text-align: right;\">0.769464</td><td style=\"text-align: right;\">0.0449017</td><td style=\"text-align: right;\">0.0555483</td><td style=\"text-align: right;\">              0.439012</td><td style=\"text-align: right;\">0.0804851</td><td style=\"text-align: right;\">0.00647786</td></tr>\n",
       "<tr><td>GBM_grid__1_AutoML_20201014_214653_model_3         </td><td style=\"text-align: right;\">0.767789</td><td style=\"text-align: right;\">0.0364142</td><td style=\"text-align: right;\">0.0215796</td><td style=\"text-align: right;\">              0.45341 </td><td style=\"text-align: right;\">0.0801731</td><td style=\"text-align: right;\">0.00642772</td></tr>\n",
       "<tr><td>DeepLearning_grid__1_AutoML_20201014_214653_model_2</td><td style=\"text-align: right;\">0.760332</td><td style=\"text-align: right;\">0.0422194</td><td style=\"text-align: right;\">0.0273328</td><td style=\"text-align: right;\">              0.467732</td><td style=\"text-align: right;\">0.0820328</td><td style=\"text-align: right;\">0.00672937</td></tr>\n",
       "<tr><td>DeepLearning_grid__2_AutoML_20201014_214653_model_2</td><td style=\"text-align: right;\">0.74575 </td><td style=\"text-align: right;\">0.0433401</td><td style=\"text-align: right;\">0.0268886</td><td style=\"text-align: right;\">              0.446816</td><td style=\"text-align: right;\">0.0831209</td><td style=\"text-align: right;\">0.00690909</td></tr>\n",
       "<tr><td>DeepLearning_grid__3_AutoML_20201014_214653_model_1</td><td style=\"text-align: right;\">0.740021</td><td style=\"text-align: right;\">0.0518794</td><td style=\"text-align: right;\">0.0186305</td><td style=\"text-align: right;\">              0.472745</td><td style=\"text-align: right;\">0.096369 </td><td style=\"text-align: right;\">0.00928698</td></tr>\n",
       "<tr><td>DeepLearning_grid__2_AutoML_20201014_214653_model_3</td><td style=\"text-align: right;\">0.73136 </td><td style=\"text-align: right;\">0.0441437</td><td style=\"text-align: right;\">0.0176329</td><td style=\"text-align: right;\">              0.472207</td><td style=\"text-align: right;\">0.0848841</td><td style=\"text-align: right;\">0.00720531</td></tr>\n",
       "<tr><td>DeepLearning_grid__2_AutoML_20201014_214653_model_1</td><td style=\"text-align: right;\">0.725366</td><td style=\"text-align: right;\">0.059429 </td><td style=\"text-align: right;\">0.0192059</td><td style=\"text-align: right;\">              0.452507</td><td style=\"text-align: right;\">0.1004   </td><td style=\"text-align: right;\">0.0100802 </td></tr>\n",
       "<tr><td>DeepLearning_grid__1_AutoML_20201014_214653_model_3</td><td style=\"text-align: right;\">0.719817</td><td style=\"text-align: right;\">0.0570014</td><td style=\"text-align: right;\">0.0160811</td><td style=\"text-align: right;\">              0.47153 </td><td style=\"text-align: right;\">0.0893661</td><td style=\"text-align: right;\">0.00798631</td></tr>\n",
       "<tr><td>DeepLearning_grid__1_AutoML_20201014_214653_model_1</td><td style=\"text-align: right;\">0.717811</td><td style=\"text-align: right;\">0.0624366</td><td style=\"text-align: right;\">0.0159537</td><td style=\"text-align: right;\">              0.460513</td><td style=\"text-align: right;\">0.0956264</td><td style=\"text-align: right;\">0.0091444 </td></tr>\n",
       "<tr><td>DeepLearning_1_AutoML_20201014_214653              </td><td style=\"text-align: right;\">0.717781</td><td style=\"text-align: right;\">0.0464137</td><td style=\"text-align: right;\">0.016591 </td><td style=\"text-align: right;\">              0.475105</td><td style=\"text-align: right;\">0.0818749</td><td style=\"text-align: right;\">0.00670351</td></tr>\n",
       "<tr><td>DeepLearning_grid__3_AutoML_20201014_214653_model_2</td><td style=\"text-align: right;\">0.695053</td><td style=\"text-align: right;\">0.0589917</td><td style=\"text-align: right;\">0.0156025</td><td style=\"text-align: right;\">              0.474535</td><td style=\"text-align: right;\">0.0942495</td><td style=\"text-align: right;\">0.00888298</td></tr>\n",
       "<tr><td>GLM_1_AutoML_20201014_214653                       </td><td style=\"text-align: right;\">0.684424</td><td style=\"text-align: right;\">0.0380131</td><td style=\"text-align: right;\">0.0116712</td><td style=\"text-align: right;\">              0.442447</td><td style=\"text-align: right;\">0.0805353</td><td style=\"text-align: right;\">0.00648593</td></tr>\n",
       "</tbody>\n",
       "</table>"
      ]
     },
     "metadata": {},
     "output_type": "display_data"
    },
    {
     "data": {
      "text/plain": []
     },
     "execution_count": 368,
     "metadata": {},
     "output_type": "execute_result"
    }
   ],
   "source": [
    "lb = aml.leaderboard\n",
    "lb.head(rows=lb.nrows)"
   ]
  },
  {
   "cell_type": "code",
   "execution_count": 369,
   "metadata": {},
   "outputs": [],
   "source": [
    "leader_model = aml.leader"
   ]
  },
  {
   "cell_type": "code",
   "execution_count": 371,
   "metadata": {
    "scrolled": true
   },
   "outputs": [
    {
     "name": "stdout",
     "output_type": "stream",
     "text": [
      "\n",
      "ModelMetricsBinomialGLM: stackedensemble\n",
      "** Reported on test data. **\n",
      "\n",
      "MSE: 0.0011248841018450207\n",
      "RMSE: 0.03353929191031052\n",
      "LogLoss: 0.009270067538603072\n",
      "Null degrees of freedom: 116904\n",
      "Residual degrees of freedom: 116884\n",
      "Null deviance: 9179.519420234168\n",
      "Residual deviance: 2167.434491200784\n",
      "AIC: 2209.434491200784\n",
      "AUC: 0.999841269363565\n",
      "AUCPR: 0.9763350090167293\n",
      "Gini: 0.99968253872713\n",
      "\n",
      "Confusion Matrix (Act/Pred) for max f1 @ threshold = 0.25921680111569273: \n"
     ]
    },
    {
     "data": {
      "text/html": [
       "<div>\n",
       "<style scoped>\n",
       "    .dataframe tbody tr th:only-of-type {\n",
       "        vertical-align: middle;\n",
       "    }\n",
       "\n",
       "    .dataframe tbody tr th {\n",
       "        vertical-align: top;\n",
       "    }\n",
       "\n",
       "    .dataframe thead th {\n",
       "        text-align: right;\n",
       "    }\n",
       "</style>\n",
       "<table border=\"1\" class=\"dataframe\">\n",
       "  <thead>\n",
       "    <tr style=\"text-align: right;\">\n",
       "      <th></th>\n",
       "      <th></th>\n",
       "      <th>0</th>\n",
       "      <th>1</th>\n",
       "      <th>Error</th>\n",
       "      <th>Rate</th>\n",
       "    </tr>\n",
       "  </thead>\n",
       "  <tbody>\n",
       "    <tr>\n",
       "      <th>0</th>\n",
       "      <td>0</td>\n",
       "      <td>116099.0</td>\n",
       "      <td>45.0</td>\n",
       "      <td>0.0004</td>\n",
       "      <td>(45.0/116144.0)</td>\n",
       "    </tr>\n",
       "    <tr>\n",
       "      <th>1</th>\n",
       "      <td>1</td>\n",
       "      <td>69.0</td>\n",
       "      <td>692.0</td>\n",
       "      <td>0.0907</td>\n",
       "      <td>(69.0/761.0)</td>\n",
       "    </tr>\n",
       "    <tr>\n",
       "      <th>2</th>\n",
       "      <td>Total</td>\n",
       "      <td>116168.0</td>\n",
       "      <td>737.0</td>\n",
       "      <td>0.001</td>\n",
       "      <td>(114.0/116905.0)</td>\n",
       "    </tr>\n",
       "  </tbody>\n",
       "</table>\n",
       "</div>"
      ],
      "text/plain": [
       "                 0      1   Error               Rate\n",
       "0      0  116099.0   45.0  0.0004    (45.0/116144.0)\n",
       "1      1      69.0  692.0  0.0907       (69.0/761.0)\n",
       "2  Total  116168.0  737.0   0.001   (114.0/116905.0)"
      ]
     },
     "metadata": {},
     "output_type": "display_data"
    },
    {
     "name": "stdout",
     "output_type": "stream",
     "text": [
      "\n",
      "Maximum Metrics: Maximum metrics at their respective thresholds\n"
     ]
    },
    {
     "data": {
      "text/html": [
       "<div>\n",
       "<style scoped>\n",
       "    .dataframe tbody tr th:only-of-type {\n",
       "        vertical-align: middle;\n",
       "    }\n",
       "\n",
       "    .dataframe tbody tr th {\n",
       "        vertical-align: top;\n",
       "    }\n",
       "\n",
       "    .dataframe thead th {\n",
       "        text-align: right;\n",
       "    }\n",
       "</style>\n",
       "<table border=\"1\" class=\"dataframe\">\n",
       "  <thead>\n",
       "    <tr style=\"text-align: right;\">\n",
       "      <th></th>\n",
       "      <th>metric</th>\n",
       "      <th>threshold</th>\n",
       "      <th>value</th>\n",
       "      <th>idx</th>\n",
       "    </tr>\n",
       "  </thead>\n",
       "  <tbody>\n",
       "    <tr>\n",
       "      <th>0</th>\n",
       "      <td>max f1</td>\n",
       "      <td>0.259217</td>\n",
       "      <td>0.923899</td>\n",
       "      <td>167.0</td>\n",
       "    </tr>\n",
       "    <tr>\n",
       "      <th>1</th>\n",
       "      <td>max f2</td>\n",
       "      <td>0.162913</td>\n",
       "      <td>0.939762</td>\n",
       "      <td>193.0</td>\n",
       "    </tr>\n",
       "    <tr>\n",
       "      <th>2</th>\n",
       "      <td>max f0point5</td>\n",
       "      <td>0.318608</td>\n",
       "      <td>0.940762</td>\n",
       "      <td>154.0</td>\n",
       "    </tr>\n",
       "    <tr>\n",
       "      <th>3</th>\n",
       "      <td>max accuracy</td>\n",
       "      <td>0.259217</td>\n",
       "      <td>0.999025</td>\n",
       "      <td>167.0</td>\n",
       "    </tr>\n",
       "    <tr>\n",
       "      <th>4</th>\n",
       "      <td>max precision</td>\n",
       "      <td>0.999908</td>\n",
       "      <td>1.000000</td>\n",
       "      <td>0.0</td>\n",
       "    </tr>\n",
       "    <tr>\n",
       "      <th>5</th>\n",
       "      <td>max recall</td>\n",
       "      <td>0.060267</td>\n",
       "      <td>1.000000</td>\n",
       "      <td>246.0</td>\n",
       "    </tr>\n",
       "    <tr>\n",
       "      <th>6</th>\n",
       "      <td>max specificity</td>\n",
       "      <td>0.999908</td>\n",
       "      <td>1.000000</td>\n",
       "      <td>0.0</td>\n",
       "    </tr>\n",
       "    <tr>\n",
       "      <th>7</th>\n",
       "      <td>max absolute_mcc</td>\n",
       "      <td>0.259217</td>\n",
       "      <td>0.923528</td>\n",
       "      <td>167.0</td>\n",
       "    </tr>\n",
       "    <tr>\n",
       "      <th>8</th>\n",
       "      <td>max min_per_class_accuracy</td>\n",
       "      <td>0.074091</td>\n",
       "      <td>0.996608</td>\n",
       "      <td>235.0</td>\n",
       "    </tr>\n",
       "    <tr>\n",
       "      <th>9</th>\n",
       "      <td>max mean_per_class_accuracy</td>\n",
       "      <td>0.060267</td>\n",
       "      <td>0.997494</td>\n",
       "      <td>246.0</td>\n",
       "    </tr>\n",
       "    <tr>\n",
       "      <th>10</th>\n",
       "      <td>max tns</td>\n",
       "      <td>0.999908</td>\n",
       "      <td>116144.000000</td>\n",
       "      <td>0.0</td>\n",
       "    </tr>\n",
       "    <tr>\n",
       "      <th>11</th>\n",
       "      <td>max fns</td>\n",
       "      <td>0.999908</td>\n",
       "      <td>675.000000</td>\n",
       "      <td>0.0</td>\n",
       "    </tr>\n",
       "    <tr>\n",
       "      <th>12</th>\n",
       "      <td>max fps</td>\n",
       "      <td>0.002836</td>\n",
       "      <td>116144.000000</td>\n",
       "      <td>399.0</td>\n",
       "    </tr>\n",
       "    <tr>\n",
       "      <th>13</th>\n",
       "      <td>max tps</td>\n",
       "      <td>0.060267</td>\n",
       "      <td>761.000000</td>\n",
       "      <td>246.0</td>\n",
       "    </tr>\n",
       "    <tr>\n",
       "      <th>14</th>\n",
       "      <td>max tnr</td>\n",
       "      <td>0.999908</td>\n",
       "      <td>1.000000</td>\n",
       "      <td>0.0</td>\n",
       "    </tr>\n",
       "    <tr>\n",
       "      <th>15</th>\n",
       "      <td>max fnr</td>\n",
       "      <td>0.999908</td>\n",
       "      <td>0.886991</td>\n",
       "      <td>0.0</td>\n",
       "    </tr>\n",
       "    <tr>\n",
       "      <th>16</th>\n",
       "      <td>max fpr</td>\n",
       "      <td>0.002836</td>\n",
       "      <td>1.000000</td>\n",
       "      <td>399.0</td>\n",
       "    </tr>\n",
       "    <tr>\n",
       "      <th>17</th>\n",
       "      <td>max tpr</td>\n",
       "      <td>0.060267</td>\n",
       "      <td>1.000000</td>\n",
       "      <td>246.0</td>\n",
       "    </tr>\n",
       "  </tbody>\n",
       "</table>\n",
       "</div>"
      ],
      "text/plain": [
       "                         metric  threshold          value    idx\n",
       "0                        max f1   0.259217       0.923899  167.0\n",
       "1                        max f2   0.162913       0.939762  193.0\n",
       "2                  max f0point5   0.318608       0.940762  154.0\n",
       "3                  max accuracy   0.259217       0.999025  167.0\n",
       "4                 max precision   0.999908       1.000000    0.0\n",
       "5                    max recall   0.060267       1.000000  246.0\n",
       "6               max specificity   0.999908       1.000000    0.0\n",
       "7              max absolute_mcc   0.259217       0.923528  167.0\n",
       "8    max min_per_class_accuracy   0.074091       0.996608  235.0\n",
       "9   max mean_per_class_accuracy   0.060267       0.997494  246.0\n",
       "10                      max tns   0.999908  116144.000000    0.0\n",
       "11                      max fns   0.999908     675.000000    0.0\n",
       "12                      max fps   0.002836  116144.000000  399.0\n",
       "13                      max tps   0.060267     761.000000  246.0\n",
       "14                      max tnr   0.999908       1.000000    0.0\n",
       "15                      max fnr   0.999908       0.886991    0.0\n",
       "16                      max fpr   0.002836       1.000000  399.0\n",
       "17                      max tpr   0.060267       1.000000  246.0"
      ]
     },
     "metadata": {},
     "output_type": "display_data"
    },
    {
     "name": "stdout",
     "output_type": "stream",
     "text": [
      "\n",
      "Gains/Lift Table: Avg response rate:  0.65 %, avg score:  1.14 %\n"
     ]
    },
    {
     "data": {
      "text/html": [
       "<div>\n",
       "<style scoped>\n",
       "    .dataframe tbody tr th:only-of-type {\n",
       "        vertical-align: middle;\n",
       "    }\n",
       "\n",
       "    .dataframe tbody tr th {\n",
       "        vertical-align: top;\n",
       "    }\n",
       "\n",
       "    .dataframe thead th {\n",
       "        text-align: right;\n",
       "    }\n",
       "</style>\n",
       "<table border=\"1\" class=\"dataframe\">\n",
       "  <thead>\n",
       "    <tr style=\"text-align: right;\">\n",
       "      <th></th>\n",
       "      <th>group</th>\n",
       "      <th>cumulative_data_fraction</th>\n",
       "      <th>lower_threshold</th>\n",
       "      <th>lift</th>\n",
       "      <th>cumulative_lift</th>\n",
       "      <th>response_rate</th>\n",
       "      <th>score</th>\n",
       "      <th>cumulative_response_rate</th>\n",
       "      <th>cumulative_score</th>\n",
       "      <th>capture_rate</th>\n",
       "      <th>cumulative_capture_rate</th>\n",
       "      <th>gain</th>\n",
       "      <th>cumulative_gain</th>\n",
       "      <th>kolmogorov_smirnov</th>\n",
       "    </tr>\n",
       "  </thead>\n",
       "  <tbody>\n",
       "    <tr>\n",
       "      <th>0</th>\n",
       "      <td>1</td>\n",
       "      <td>0.010008</td>\n",
       "      <td>0.072408</td>\n",
       "      <td>99.656205</td>\n",
       "      <td>99.656205</td>\n",
       "      <td>0.648718</td>\n",
       "      <td>0.546011</td>\n",
       "      <td>0.648718</td>\n",
       "      <td>0.546011</td>\n",
       "      <td>0.997372</td>\n",
       "      <td>0.997372</td>\n",
       "      <td>9865.620472</td>\n",
       "      <td>9865.620472</td>\n",
       "      <td>0.993833</td>\n",
       "    </tr>\n",
       "    <tr>\n",
       "      <th>1</th>\n",
       "      <td>2</td>\n",
       "      <td>0.020008</td>\n",
       "      <td>0.034412</td>\n",
       "      <td>0.262823</td>\n",
       "      <td>49.980761</td>\n",
       "      <td>0.001711</td>\n",
       "      <td>0.046878</td>\n",
       "      <td>0.325353</td>\n",
       "      <td>0.296551</td>\n",
       "      <td>0.002628</td>\n",
       "      <td>1.000000</td>\n",
       "      <td>-73.717667</td>\n",
       "      <td>4898.076101</td>\n",
       "      <td>0.986413</td>\n",
       "    </tr>\n",
       "    <tr>\n",
       "      <th>2</th>\n",
       "      <td>3</td>\n",
       "      <td>0.030007</td>\n",
       "      <td>0.024807</td>\n",
       "      <td>0.000000</td>\n",
       "      <td>33.325257</td>\n",
       "      <td>0.000000</td>\n",
       "      <td>0.028798</td>\n",
       "      <td>0.216933</td>\n",
       "      <td>0.207325</td>\n",
       "      <td>0.000000</td>\n",
       "      <td>1.000000</td>\n",
       "      <td>-100.000000</td>\n",
       "      <td>3232.525656</td>\n",
       "      <td>0.976348</td>\n",
       "    </tr>\n",
       "    <tr>\n",
       "      <th>3</th>\n",
       "      <td>4</td>\n",
       "      <td>0.040007</td>\n",
       "      <td>0.020213</td>\n",
       "      <td>0.000000</td>\n",
       "      <td>24.995724</td>\n",
       "      <td>0.000000</td>\n",
       "      <td>0.022337</td>\n",
       "      <td>0.162711</td>\n",
       "      <td>0.161088</td>\n",
       "      <td>0.000000</td>\n",
       "      <td>1.000000</td>\n",
       "      <td>-100.000000</td>\n",
       "      <td>2399.572375</td>\n",
       "      <td>0.966283</td>\n",
       "    </tr>\n",
       "    <tr>\n",
       "      <th>4</th>\n",
       "      <td>5</td>\n",
       "      <td>0.050006</td>\n",
       "      <td>0.017394</td>\n",
       "      <td>0.000000</td>\n",
       "      <td>19.997434</td>\n",
       "      <td>0.000000</td>\n",
       "      <td>0.018697</td>\n",
       "      <td>0.130174</td>\n",
       "      <td>0.132615</td>\n",
       "      <td>0.000000</td>\n",
       "      <td>1.000000</td>\n",
       "      <td>-100.000000</td>\n",
       "      <td>1899.743414</td>\n",
       "      <td>0.956218</td>\n",
       "    </tr>\n",
       "    <tr>\n",
       "      <th>5</th>\n",
       "      <td>6</td>\n",
       "      <td>0.100004</td>\n",
       "      <td>0.011099</td>\n",
       "      <td>0.000000</td>\n",
       "      <td>9.999572</td>\n",
       "      <td>0.000000</td>\n",
       "      <td>0.013671</td>\n",
       "      <td>0.065093</td>\n",
       "      <td>0.073148</td>\n",
       "      <td>0.000000</td>\n",
       "      <td>1.000000</td>\n",
       "      <td>-100.000000</td>\n",
       "      <td>899.957232</td>\n",
       "      <td>0.905893</td>\n",
       "    </tr>\n",
       "    <tr>\n",
       "      <th>6</th>\n",
       "      <td>7</td>\n",
       "      <td>0.150002</td>\n",
       "      <td>0.008529</td>\n",
       "      <td>0.000000</td>\n",
       "      <td>6.666572</td>\n",
       "      <td>0.000000</td>\n",
       "      <td>0.009677</td>\n",
       "      <td>0.043396</td>\n",
       "      <td>0.051993</td>\n",
       "      <td>0.000000</td>\n",
       "      <td>1.000000</td>\n",
       "      <td>-100.000000</td>\n",
       "      <td>566.657162</td>\n",
       "      <td>0.855567</td>\n",
       "    </tr>\n",
       "    <tr>\n",
       "      <th>7</th>\n",
       "      <td>8</td>\n",
       "      <td>0.200000</td>\n",
       "      <td>0.007075</td>\n",
       "      <td>0.000000</td>\n",
       "      <td>5.000000</td>\n",
       "      <td>0.000000</td>\n",
       "      <td>0.007750</td>\n",
       "      <td>0.032548</td>\n",
       "      <td>0.040932</td>\n",
       "      <td>0.000000</td>\n",
       "      <td>1.000000</td>\n",
       "      <td>-100.000000</td>\n",
       "      <td>400.000000</td>\n",
       "      <td>0.805242</td>\n",
       "    </tr>\n",
       "    <tr>\n",
       "      <th>8</th>\n",
       "      <td>9</td>\n",
       "      <td>0.300004</td>\n",
       "      <td>0.005482</td>\n",
       "      <td>0.000000</td>\n",
       "      <td>3.333286</td>\n",
       "      <td>0.000000</td>\n",
       "      <td>0.006178</td>\n",
       "      <td>0.021698</td>\n",
       "      <td>0.029347</td>\n",
       "      <td>0.000000</td>\n",
       "      <td>1.000000</td>\n",
       "      <td>-100.000000</td>\n",
       "      <td>233.328581</td>\n",
       "      <td>0.704582</td>\n",
       "    </tr>\n",
       "    <tr>\n",
       "      <th>9</th>\n",
       "      <td>10</td>\n",
       "      <td>0.400000</td>\n",
       "      <td>0.004608</td>\n",
       "      <td>0.000000</td>\n",
       "      <td>2.500000</td>\n",
       "      <td>0.000000</td>\n",
       "      <td>0.005007</td>\n",
       "      <td>0.016274</td>\n",
       "      <td>0.023263</td>\n",
       "      <td>0.000000</td>\n",
       "      <td>1.000000</td>\n",
       "      <td>-100.000000</td>\n",
       "      <td>150.000000</td>\n",
       "      <td>0.603931</td>\n",
       "    </tr>\n",
       "    <tr>\n",
       "      <th>10</th>\n",
       "      <td>11</td>\n",
       "      <td>0.500004</td>\n",
       "      <td>0.004044</td>\n",
       "      <td>0.000000</td>\n",
       "      <td>1.999983</td>\n",
       "      <td>0.000000</td>\n",
       "      <td>0.004308</td>\n",
       "      <td>0.013019</td>\n",
       "      <td>0.019471</td>\n",
       "      <td>0.000000</td>\n",
       "      <td>1.000000</td>\n",
       "      <td>-100.000000</td>\n",
       "      <td>99.998289</td>\n",
       "      <td>0.503272</td>\n",
       "    </tr>\n",
       "    <tr>\n",
       "      <th>11</th>\n",
       "      <td>12</td>\n",
       "      <td>0.600000</td>\n",
       "      <td>0.003633</td>\n",
       "      <td>0.000000</td>\n",
       "      <td>1.666667</td>\n",
       "      <td>0.000000</td>\n",
       "      <td>0.003830</td>\n",
       "      <td>0.010849</td>\n",
       "      <td>0.016865</td>\n",
       "      <td>0.000000</td>\n",
       "      <td>1.000000</td>\n",
       "      <td>-100.000000</td>\n",
       "      <td>66.666667</td>\n",
       "      <td>0.402621</td>\n",
       "    </tr>\n",
       "    <tr>\n",
       "      <th>12</th>\n",
       "      <td>13</td>\n",
       "      <td>0.699996</td>\n",
       "      <td>0.003320</td>\n",
       "      <td>0.000000</td>\n",
       "      <td>1.428580</td>\n",
       "      <td>0.000000</td>\n",
       "      <td>0.003469</td>\n",
       "      <td>0.009299</td>\n",
       "      <td>0.014951</td>\n",
       "      <td>0.000000</td>\n",
       "      <td>1.000000</td>\n",
       "      <td>-100.000000</td>\n",
       "      <td>42.858016</td>\n",
       "      <td>0.301970</td>\n",
       "    </tr>\n",
       "    <tr>\n",
       "      <th>13</th>\n",
       "      <td>14</td>\n",
       "      <td>0.800000</td>\n",
       "      <td>0.003094</td>\n",
       "      <td>0.000000</td>\n",
       "      <td>1.250000</td>\n",
       "      <td>0.000000</td>\n",
       "      <td>0.003200</td>\n",
       "      <td>0.008137</td>\n",
       "      <td>0.013482</td>\n",
       "      <td>0.000000</td>\n",
       "      <td>1.000000</td>\n",
       "      <td>-100.000000</td>\n",
       "      <td>25.000000</td>\n",
       "      <td>0.201310</td>\n",
       "    </tr>\n",
       "    <tr>\n",
       "      <th>14</th>\n",
       "      <td>15</td>\n",
       "      <td>0.899996</td>\n",
       "      <td>0.002929</td>\n",
       "      <td>0.000000</td>\n",
       "      <td>1.111116</td>\n",
       "      <td>0.000000</td>\n",
       "      <td>0.003009</td>\n",
       "      <td>0.007233</td>\n",
       "      <td>0.012318</td>\n",
       "      <td>0.000000</td>\n",
       "      <td>1.000000</td>\n",
       "      <td>-100.000000</td>\n",
       "      <td>11.111639</td>\n",
       "      <td>0.100660</td>\n",
       "    </tr>\n",
       "    <tr>\n",
       "      <th>15</th>\n",
       "      <td>16</td>\n",
       "      <td>1.000000</td>\n",
       "      <td>0.002793</td>\n",
       "      <td>0.000000</td>\n",
       "      <td>1.000000</td>\n",
       "      <td>0.000000</td>\n",
       "      <td>0.002865</td>\n",
       "      <td>0.006510</td>\n",
       "      <td>0.011373</td>\n",
       "      <td>0.000000</td>\n",
       "      <td>1.000000</td>\n",
       "      <td>-100.000000</td>\n",
       "      <td>0.000000</td>\n",
       "      <td>0.000000</td>\n",
       "    </tr>\n",
       "  </tbody>\n",
       "</table>\n",
       "</div>"
      ],
      "text/plain": [
       "    group  cumulative_data_fraction  lower_threshold       lift  \\\n",
       "0       1                  0.010008         0.072408  99.656205   \n",
       "1       2                  0.020008         0.034412   0.262823   \n",
       "2       3                  0.030007         0.024807   0.000000   \n",
       "3       4                  0.040007         0.020213   0.000000   \n",
       "4       5                  0.050006         0.017394   0.000000   \n",
       "5       6                  0.100004         0.011099   0.000000   \n",
       "6       7                  0.150002         0.008529   0.000000   \n",
       "7       8                  0.200000         0.007075   0.000000   \n",
       "8       9                  0.300004         0.005482   0.000000   \n",
       "9      10                  0.400000         0.004608   0.000000   \n",
       "10     11                  0.500004         0.004044   0.000000   \n",
       "11     12                  0.600000         0.003633   0.000000   \n",
       "12     13                  0.699996         0.003320   0.000000   \n",
       "13     14                  0.800000         0.003094   0.000000   \n",
       "14     15                  0.899996         0.002929   0.000000   \n",
       "15     16                  1.000000         0.002793   0.000000   \n",
       "\n",
       "    cumulative_lift  response_rate     score  cumulative_response_rate  \\\n",
       "0         99.656205       0.648718  0.546011                  0.648718   \n",
       "1         49.980761       0.001711  0.046878                  0.325353   \n",
       "2         33.325257       0.000000  0.028798                  0.216933   \n",
       "3         24.995724       0.000000  0.022337                  0.162711   \n",
       "4         19.997434       0.000000  0.018697                  0.130174   \n",
       "5          9.999572       0.000000  0.013671                  0.065093   \n",
       "6          6.666572       0.000000  0.009677                  0.043396   \n",
       "7          5.000000       0.000000  0.007750                  0.032548   \n",
       "8          3.333286       0.000000  0.006178                  0.021698   \n",
       "9          2.500000       0.000000  0.005007                  0.016274   \n",
       "10         1.999983       0.000000  0.004308                  0.013019   \n",
       "11         1.666667       0.000000  0.003830                  0.010849   \n",
       "12         1.428580       0.000000  0.003469                  0.009299   \n",
       "13         1.250000       0.000000  0.003200                  0.008137   \n",
       "14         1.111116       0.000000  0.003009                  0.007233   \n",
       "15         1.000000       0.000000  0.002865                  0.006510   \n",
       "\n",
       "    cumulative_score  capture_rate  cumulative_capture_rate         gain  \\\n",
       "0           0.546011      0.997372                 0.997372  9865.620472   \n",
       "1           0.296551      0.002628                 1.000000   -73.717667   \n",
       "2           0.207325      0.000000                 1.000000  -100.000000   \n",
       "3           0.161088      0.000000                 1.000000  -100.000000   \n",
       "4           0.132615      0.000000                 1.000000  -100.000000   \n",
       "5           0.073148      0.000000                 1.000000  -100.000000   \n",
       "6           0.051993      0.000000                 1.000000  -100.000000   \n",
       "7           0.040932      0.000000                 1.000000  -100.000000   \n",
       "8           0.029347      0.000000                 1.000000  -100.000000   \n",
       "9           0.023263      0.000000                 1.000000  -100.000000   \n",
       "10          0.019471      0.000000                 1.000000  -100.000000   \n",
       "11          0.016865      0.000000                 1.000000  -100.000000   \n",
       "12          0.014951      0.000000                 1.000000  -100.000000   \n",
       "13          0.013482      0.000000                 1.000000  -100.000000   \n",
       "14          0.012318      0.000000                 1.000000  -100.000000   \n",
       "15          0.011373      0.000000                 1.000000  -100.000000   \n",
       "\n",
       "    cumulative_gain  kolmogorov_smirnov  \n",
       "0       9865.620472            0.993833  \n",
       "1       4898.076101            0.986413  \n",
       "2       3232.525656            0.976348  \n",
       "3       2399.572375            0.966283  \n",
       "4       1899.743414            0.956218  \n",
       "5        899.957232            0.905893  \n",
       "6        566.657162            0.855567  \n",
       "7        400.000000            0.805242  \n",
       "8        233.328581            0.704582  \n",
       "9        150.000000            0.603931  \n",
       "10        99.998289            0.503272  \n",
       "11        66.666667            0.402621  \n",
       "12        42.858016            0.301970  \n",
       "13        25.000000            0.201310  \n",
       "14        11.111639            0.100660  \n",
       "15         0.000000            0.000000  "
      ]
     },
     "metadata": {},
     "output_type": "display_data"
    },
    {
     "name": "stdout",
     "output_type": "stream",
     "text": [
      "\n"
     ]
    },
    {
     "data": {
      "text/plain": []
     },
     "execution_count": 371,
     "metadata": {},
     "output_type": "execute_result"
    }
   ],
   "source": [
    "leader_model.model_performance(train)"
   ]
  },
  {
   "cell_type": "code",
   "execution_count": 370,
   "metadata": {
    "scrolled": true
   },
   "outputs": [
    {
     "name": "stdout",
     "output_type": "stream",
     "text": [
      "\n",
      "ModelMetricsBinomialGLM: stackedensemble\n",
      "** Reported on test data. **\n",
      "\n",
      "MSE: 0.006726653273485089\n",
      "RMSE: 0.08201617690117657\n",
      "LogLoss: 0.03671277394606628\n",
      "Null degrees of freedom: 29139\n",
      "Residual degrees of freedom: 29119\n",
      "Null deviance: 2421.966079798907\n",
      "Residual deviance: 2139.6204655767424\n",
      "AIC: 2181.6204655767424\n",
      "AUC: 0.8041290992100897\n",
      "AUCPR: 0.06658383481933482\n",
      "Gini: 0.6082581984201794\n",
      "\n",
      "Confusion Matrix (Act/Pred) for max f1 @ threshold = 0.029484668517640193: \n"
     ]
    },
    {
     "data": {
      "text/html": [
       "<div>\n",
       "<style scoped>\n",
       "    .dataframe tbody tr th:only-of-type {\n",
       "        vertical-align: middle;\n",
       "    }\n",
       "\n",
       "    .dataframe tbody tr th {\n",
       "        vertical-align: top;\n",
       "    }\n",
       "\n",
       "    .dataframe thead th {\n",
       "        text-align: right;\n",
       "    }\n",
       "</style>\n",
       "<table border=\"1\" class=\"dataframe\">\n",
       "  <thead>\n",
       "    <tr style=\"text-align: right;\">\n",
       "      <th></th>\n",
       "      <th></th>\n",
       "      <th>0</th>\n",
       "      <th>1</th>\n",
       "      <th>Error</th>\n",
       "      <th>Rate</th>\n",
       "    </tr>\n",
       "  </thead>\n",
       "  <tbody>\n",
       "    <tr>\n",
       "      <th>0</th>\n",
       "      <td>0</td>\n",
       "      <td>28400.0</td>\n",
       "      <td>537.0</td>\n",
       "      <td>0.0186</td>\n",
       "      <td>(537.0/28937.0)</td>\n",
       "    </tr>\n",
       "    <tr>\n",
       "      <th>1</th>\n",
       "      <td>1</td>\n",
       "      <td>155.0</td>\n",
       "      <td>48.0</td>\n",
       "      <td>0.7635</td>\n",
       "      <td>(155.0/203.0)</td>\n",
       "    </tr>\n",
       "    <tr>\n",
       "      <th>2</th>\n",
       "      <td>Total</td>\n",
       "      <td>28555.0</td>\n",
       "      <td>585.0</td>\n",
       "      <td>0.0237</td>\n",
       "      <td>(692.0/29140.0)</td>\n",
       "    </tr>\n",
       "  </tbody>\n",
       "</table>\n",
       "</div>"
      ],
      "text/plain": [
       "                0      1   Error              Rate\n",
       "0      0  28400.0  537.0  0.0186   (537.0/28937.0)\n",
       "1      1    155.0   48.0  0.7635     (155.0/203.0)\n",
       "2  Total  28555.0  585.0  0.0237   (692.0/29140.0)"
      ]
     },
     "metadata": {},
     "output_type": "display_data"
    },
    {
     "name": "stdout",
     "output_type": "stream",
     "text": [
      "\n",
      "Maximum Metrics: Maximum metrics at their respective thresholds\n"
     ]
    },
    {
     "data": {
      "text/html": [
       "<div>\n",
       "<style scoped>\n",
       "    .dataframe tbody tr th:only-of-type {\n",
       "        vertical-align: middle;\n",
       "    }\n",
       "\n",
       "    .dataframe tbody tr th {\n",
       "        vertical-align: top;\n",
       "    }\n",
       "\n",
       "    .dataframe thead th {\n",
       "        text-align: right;\n",
       "    }\n",
       "</style>\n",
       "<table border=\"1\" class=\"dataframe\">\n",
       "  <thead>\n",
       "    <tr style=\"text-align: right;\">\n",
       "      <th></th>\n",
       "      <th>metric</th>\n",
       "      <th>threshold</th>\n",
       "      <th>value</th>\n",
       "      <th>idx</th>\n",
       "    </tr>\n",
       "  </thead>\n",
       "  <tbody>\n",
       "    <tr>\n",
       "      <th>0</th>\n",
       "      <td>max f1</td>\n",
       "      <td>0.029485</td>\n",
       "      <td>0.121827</td>\n",
       "      <td>171.0</td>\n",
       "    </tr>\n",
       "    <tr>\n",
       "      <th>1</th>\n",
       "      <td>max f2</td>\n",
       "      <td>0.029485</td>\n",
       "      <td>0.171797</td>\n",
       "      <td>171.0</td>\n",
       "    </tr>\n",
       "    <tr>\n",
       "      <th>2</th>\n",
       "      <td>max f0point5</td>\n",
       "      <td>0.120659</td>\n",
       "      <td>0.155211</td>\n",
       "      <td>57.0</td>\n",
       "    </tr>\n",
       "    <tr>\n",
       "      <th>3</th>\n",
       "      <td>max accuracy</td>\n",
       "      <td>0.715239</td>\n",
       "      <td>0.993102</td>\n",
       "      <td>3.0</td>\n",
       "    </tr>\n",
       "    <tr>\n",
       "      <th>4</th>\n",
       "      <td>max precision</td>\n",
       "      <td>0.951165</td>\n",
       "      <td>1.000000</td>\n",
       "      <td>0.0</td>\n",
       "    </tr>\n",
       "    <tr>\n",
       "      <th>5</th>\n",
       "      <td>max recall</td>\n",
       "      <td>0.002868</td>\n",
       "      <td>1.000000</td>\n",
       "      <td>397.0</td>\n",
       "    </tr>\n",
       "    <tr>\n",
       "      <th>6</th>\n",
       "      <td>max specificity</td>\n",
       "      <td>0.951165</td>\n",
       "      <td>1.000000</td>\n",
       "      <td>0.0</td>\n",
       "    </tr>\n",
       "    <tr>\n",
       "      <th>7</th>\n",
       "      <td>max absolute_mcc</td>\n",
       "      <td>0.029485</td>\n",
       "      <td>0.129212</td>\n",
       "      <td>171.0</td>\n",
       "    </tr>\n",
       "    <tr>\n",
       "      <th>8</th>\n",
       "      <td>max min_per_class_accuracy</td>\n",
       "      <td>0.005835</td>\n",
       "      <td>0.724138</td>\n",
       "      <td>331.0</td>\n",
       "    </tr>\n",
       "    <tr>\n",
       "      <th>9</th>\n",
       "      <td>max mean_per_class_accuracy</td>\n",
       "      <td>0.007604</td>\n",
       "      <td>0.732827</td>\n",
       "      <td>307.0</td>\n",
       "    </tr>\n",
       "    <tr>\n",
       "      <th>10</th>\n",
       "      <td>max tns</td>\n",
       "      <td>0.951165</td>\n",
       "      <td>28937.000000</td>\n",
       "      <td>0.0</td>\n",
       "    </tr>\n",
       "    <tr>\n",
       "      <th>11</th>\n",
       "      <td>max fns</td>\n",
       "      <td>0.951165</td>\n",
       "      <td>202.000000</td>\n",
       "      <td>0.0</td>\n",
       "    </tr>\n",
       "    <tr>\n",
       "      <th>12</th>\n",
       "      <td>max fps</td>\n",
       "      <td>0.002818</td>\n",
       "      <td>28937.000000</td>\n",
       "      <td>399.0</td>\n",
       "    </tr>\n",
       "    <tr>\n",
       "      <th>13</th>\n",
       "      <td>max tps</td>\n",
       "      <td>0.002868</td>\n",
       "      <td>203.000000</td>\n",
       "      <td>397.0</td>\n",
       "    </tr>\n",
       "    <tr>\n",
       "      <th>14</th>\n",
       "      <td>max tnr</td>\n",
       "      <td>0.951165</td>\n",
       "      <td>1.000000</td>\n",
       "      <td>0.0</td>\n",
       "    </tr>\n",
       "    <tr>\n",
       "      <th>15</th>\n",
       "      <td>max fnr</td>\n",
       "      <td>0.951165</td>\n",
       "      <td>0.995074</td>\n",
       "      <td>0.0</td>\n",
       "    </tr>\n",
       "    <tr>\n",
       "      <th>16</th>\n",
       "      <td>max fpr</td>\n",
       "      <td>0.002818</td>\n",
       "      <td>1.000000</td>\n",
       "      <td>399.0</td>\n",
       "    </tr>\n",
       "    <tr>\n",
       "      <th>17</th>\n",
       "      <td>max tpr</td>\n",
       "      <td>0.002868</td>\n",
       "      <td>1.000000</td>\n",
       "      <td>397.0</td>\n",
       "    </tr>\n",
       "  </tbody>\n",
       "</table>\n",
       "</div>"
      ],
      "text/plain": [
       "                         metric  threshold         value    idx\n",
       "0                        max f1   0.029485      0.121827  171.0\n",
       "1                        max f2   0.029485      0.171797  171.0\n",
       "2                  max f0point5   0.120659      0.155211   57.0\n",
       "3                  max accuracy   0.715239      0.993102    3.0\n",
       "4                 max precision   0.951165      1.000000    0.0\n",
       "5                    max recall   0.002868      1.000000  397.0\n",
       "6               max specificity   0.951165      1.000000    0.0\n",
       "7              max absolute_mcc   0.029485      0.129212  171.0\n",
       "8    max min_per_class_accuracy   0.005835      0.724138  331.0\n",
       "9   max mean_per_class_accuracy   0.007604      0.732827  307.0\n",
       "10                      max tns   0.951165  28937.000000    0.0\n",
       "11                      max fns   0.951165    202.000000    0.0\n",
       "12                      max fps   0.002818  28937.000000  399.0\n",
       "13                      max tps   0.002868    203.000000  397.0\n",
       "14                      max tnr   0.951165      1.000000    0.0\n",
       "15                      max fnr   0.951165      0.995074    0.0\n",
       "16                      max fpr   0.002818      1.000000  399.0\n",
       "17                      max tpr   0.002868      1.000000  397.0"
      ]
     },
     "metadata": {},
     "output_type": "display_data"
    },
    {
     "name": "stdout",
     "output_type": "stream",
     "text": [
      "\n",
      "Gains/Lift Table: Avg response rate:  0.70 %, avg score:  0.68 %\n"
     ]
    },
    {
     "data": {
      "text/html": [
       "<div>\n",
       "<style scoped>\n",
       "    .dataframe tbody tr th:only-of-type {\n",
       "        vertical-align: middle;\n",
       "    }\n",
       "\n",
       "    .dataframe tbody tr th {\n",
       "        vertical-align: top;\n",
       "    }\n",
       "\n",
       "    .dataframe thead th {\n",
       "        text-align: right;\n",
       "    }\n",
       "</style>\n",
       "<table border=\"1\" class=\"dataframe\">\n",
       "  <thead>\n",
       "    <tr style=\"text-align: right;\">\n",
       "      <th></th>\n",
       "      <th>group</th>\n",
       "      <th>cumulative_data_fraction</th>\n",
       "      <th>lower_threshold</th>\n",
       "      <th>lift</th>\n",
       "      <th>cumulative_lift</th>\n",
       "      <th>response_rate</th>\n",
       "      <th>score</th>\n",
       "      <th>cumulative_response_rate</th>\n",
       "      <th>cumulative_score</th>\n",
       "      <th>capture_rate</th>\n",
       "      <th>cumulative_capture_rate</th>\n",
       "      <th>gain</th>\n",
       "      <th>cumulative_gain</th>\n",
       "      <th>kolmogorov_smirnov</th>\n",
       "    </tr>\n",
       "  </thead>\n",
       "  <tbody>\n",
       "    <tr>\n",
       "      <th>0</th>\n",
       "      <td>1</td>\n",
       "      <td>0.010021</td>\n",
       "      <td>0.047292</td>\n",
       "      <td>13.273163</td>\n",
       "      <td>13.273163</td>\n",
       "      <td>0.092466</td>\n",
       "      <td>0.107489</td>\n",
       "      <td>0.092466</td>\n",
       "      <td>0.107489</td>\n",
       "      <td>0.133005</td>\n",
       "      <td>0.133005</td>\n",
       "      <td>1227.316283</td>\n",
       "      <td>1227.316283</td>\n",
       "      <td>0.123847</td>\n",
       "    </tr>\n",
       "    <tr>\n",
       "      <th>1</th>\n",
       "      <td>2</td>\n",
       "      <td>0.020007</td>\n",
       "      <td>0.029345</td>\n",
       "      <td>10.359047</td>\n",
       "      <td>11.818604</td>\n",
       "      <td>0.072165</td>\n",
       "      <td>0.036637</td>\n",
       "      <td>0.082333</td>\n",
       "      <td>0.072124</td>\n",
       "      <td>0.103448</td>\n",
       "      <td>0.236453</td>\n",
       "      <td>935.904728</td>\n",
       "      <td>1081.860430</td>\n",
       "      <td>0.217965</td>\n",
       "    </tr>\n",
       "    <tr>\n",
       "      <th>2</th>\n",
       "      <td>3</td>\n",
       "      <td>0.030027</td>\n",
       "      <td>0.023221</td>\n",
       "      <td>2.457993</td>\n",
       "      <td>8.694835</td>\n",
       "      <td>0.017123</td>\n",
       "      <td>0.026006</td>\n",
       "      <td>0.060571</td>\n",
       "      <td>0.056734</td>\n",
       "      <td>0.024631</td>\n",
       "      <td>0.261084</td>\n",
       "      <td>145.799312</td>\n",
       "      <td>769.483462</td>\n",
       "      <td>0.232677</td>\n",
       "    </tr>\n",
       "    <tr>\n",
       "      <th>3</th>\n",
       "      <td>4</td>\n",
       "      <td>0.040014</td>\n",
       "      <td>0.019439</td>\n",
       "      <td>5.919456</td>\n",
       "      <td>8.002180</td>\n",
       "      <td>0.041237</td>\n",
       "      <td>0.021211</td>\n",
       "      <td>0.055746</td>\n",
       "      <td>0.047868</td>\n",
       "      <td>0.059113</td>\n",
       "      <td>0.320197</td>\n",
       "      <td>491.945559</td>\n",
       "      <td>700.217999</td>\n",
       "      <td>0.282149</td>\n",
       "    </tr>\n",
       "    <tr>\n",
       "      <th>4</th>\n",
       "      <td>5</td>\n",
       "      <td>0.050000</td>\n",
       "      <td>0.016938</td>\n",
       "      <td>0.986576</td>\n",
       "      <td>6.600985</td>\n",
       "      <td>0.006873</td>\n",
       "      <td>0.018068</td>\n",
       "      <td>0.045985</td>\n",
       "      <td>0.041916</td>\n",
       "      <td>0.009852</td>\n",
       "      <td>0.330049</td>\n",
       "      <td>-1.342407</td>\n",
       "      <td>560.098522</td>\n",
       "      <td>0.282014</td>\n",
       "    </tr>\n",
       "    <tr>\n",
       "      <th>5</th>\n",
       "      <td>6</td>\n",
       "      <td>0.100000</td>\n",
       "      <td>0.011011</td>\n",
       "      <td>2.660099</td>\n",
       "      <td>4.630542</td>\n",
       "      <td>0.018531</td>\n",
       "      <td>0.013418</td>\n",
       "      <td>0.032258</td>\n",
       "      <td>0.027667</td>\n",
       "      <td>0.133005</td>\n",
       "      <td>0.463054</td>\n",
       "      <td>166.009852</td>\n",
       "      <td>363.054187</td>\n",
       "      <td>0.365601</td>\n",
       "    </tr>\n",
       "    <tr>\n",
       "      <th>6</th>\n",
       "      <td>7</td>\n",
       "      <td>0.150000</td>\n",
       "      <td>0.008555</td>\n",
       "      <td>2.266010</td>\n",
       "      <td>3.842365</td>\n",
       "      <td>0.015786</td>\n",
       "      <td>0.009682</td>\n",
       "      <td>0.026767</td>\n",
       "      <td>0.021672</td>\n",
       "      <td>0.113300</td>\n",
       "      <td>0.576355</td>\n",
       "      <td>126.600985</td>\n",
       "      <td>284.236453</td>\n",
       "      <td>0.429346</td>\n",
       "    </tr>\n",
       "    <tr>\n",
       "      <th>7</th>\n",
       "      <td>8</td>\n",
       "      <td>0.200000</td>\n",
       "      <td>0.007105</td>\n",
       "      <td>1.379310</td>\n",
       "      <td>3.226601</td>\n",
       "      <td>0.009609</td>\n",
       "      <td>0.007781</td>\n",
       "      <td>0.022478</td>\n",
       "      <td>0.018199</td>\n",
       "      <td>0.068966</td>\n",
       "      <td>0.645320</td>\n",
       "      <td>37.931034</td>\n",
       "      <td>222.660099</td>\n",
       "      <td>0.448444</td>\n",
       "    </tr>\n",
       "    <tr>\n",
       "      <th>8</th>\n",
       "      <td>9</td>\n",
       "      <td>0.300000</td>\n",
       "      <td>0.005508</td>\n",
       "      <td>1.034483</td>\n",
       "      <td>2.495895</td>\n",
       "      <td>0.007207</td>\n",
       "      <td>0.006215</td>\n",
       "      <td>0.017387</td>\n",
       "      <td>0.014205</td>\n",
       "      <td>0.103448</td>\n",
       "      <td>0.748768</td>\n",
       "      <td>3.448276</td>\n",
       "      <td>149.589491</td>\n",
       "      <td>0.451917</td>\n",
       "    </tr>\n",
       "    <tr>\n",
       "      <th>9</th>\n",
       "      <td>10</td>\n",
       "      <td>0.400000</td>\n",
       "      <td>0.004630</td>\n",
       "      <td>0.788177</td>\n",
       "      <td>2.068966</td>\n",
       "      <td>0.005491</td>\n",
       "      <td>0.005031</td>\n",
       "      <td>0.014413</td>\n",
       "      <td>0.011911</td>\n",
       "      <td>0.078818</td>\n",
       "      <td>0.827586</td>\n",
       "      <td>-21.182266</td>\n",
       "      <td>106.896552</td>\n",
       "      <td>0.430586</td>\n",
       "    </tr>\n",
       "    <tr>\n",
       "      <th>10</th>\n",
       "      <td>11</td>\n",
       "      <td>0.500000</td>\n",
       "      <td>0.004057</td>\n",
       "      <td>0.394089</td>\n",
       "      <td>1.733990</td>\n",
       "      <td>0.002745</td>\n",
       "      <td>0.004324</td>\n",
       "      <td>0.012080</td>\n",
       "      <td>0.010394</td>\n",
       "      <td>0.039409</td>\n",
       "      <td>0.866995</td>\n",
       "      <td>-60.591133</td>\n",
       "      <td>73.399015</td>\n",
       "      <td>0.369570</td>\n",
       "    </tr>\n",
       "    <tr>\n",
       "      <th>11</th>\n",
       "      <td>12</td>\n",
       "      <td>0.600000</td>\n",
       "      <td>0.003643</td>\n",
       "      <td>0.492611</td>\n",
       "      <td>1.527094</td>\n",
       "      <td>0.003432</td>\n",
       "      <td>0.003840</td>\n",
       "      <td>0.010638</td>\n",
       "      <td>0.009301</td>\n",
       "      <td>0.049261</td>\n",
       "      <td>0.916256</td>\n",
       "      <td>-50.738916</td>\n",
       "      <td>52.709360</td>\n",
       "      <td>0.318475</td>\n",
       "    </tr>\n",
       "    <tr>\n",
       "      <th>12</th>\n",
       "      <td>13</td>\n",
       "      <td>0.700000</td>\n",
       "      <td>0.003320</td>\n",
       "      <td>0.443350</td>\n",
       "      <td>1.372273</td>\n",
       "      <td>0.003089</td>\n",
       "      <td>0.003472</td>\n",
       "      <td>0.009560</td>\n",
       "      <td>0.008469</td>\n",
       "      <td>0.044335</td>\n",
       "      <td>0.960591</td>\n",
       "      <td>-55.665025</td>\n",
       "      <td>37.227305</td>\n",
       "      <td>0.262419</td>\n",
       "    </tr>\n",
       "    <tr>\n",
       "      <th>13</th>\n",
       "      <td>14</td>\n",
       "      <td>0.800000</td>\n",
       "      <td>0.003098</td>\n",
       "      <td>0.246305</td>\n",
       "      <td>1.231527</td>\n",
       "      <td>0.001716</td>\n",
       "      <td>0.003203</td>\n",
       "      <td>0.008579</td>\n",
       "      <td>0.007810</td>\n",
       "      <td>0.024631</td>\n",
       "      <td>0.985222</td>\n",
       "      <td>-75.369458</td>\n",
       "      <td>23.152709</td>\n",
       "      <td>0.186521</td>\n",
       "    </tr>\n",
       "    <tr>\n",
       "      <th>14</th>\n",
       "      <td>15</td>\n",
       "      <td>0.900000</td>\n",
       "      <td>0.002929</td>\n",
       "      <td>0.000000</td>\n",
       "      <td>1.094691</td>\n",
       "      <td>0.000000</td>\n",
       "      <td>0.003010</td>\n",
       "      <td>0.007626</td>\n",
       "      <td>0.007277</td>\n",
       "      <td>0.000000</td>\n",
       "      <td>0.985222</td>\n",
       "      <td>-100.000000</td>\n",
       "      <td>9.469075</td>\n",
       "      <td>0.085820</td>\n",
       "    </tr>\n",
       "    <tr>\n",
       "      <th>15</th>\n",
       "      <td>16</td>\n",
       "      <td>1.000000</td>\n",
       "      <td>0.002798</td>\n",
       "      <td>0.147783</td>\n",
       "      <td>1.000000</td>\n",
       "      <td>0.001030</td>\n",
       "      <td>0.002865</td>\n",
       "      <td>0.006966</td>\n",
       "      <td>0.006836</td>\n",
       "      <td>0.014778</td>\n",
       "      <td>1.000000</td>\n",
       "      <td>-85.221675</td>\n",
       "      <td>0.000000</td>\n",
       "      <td>0.000000</td>\n",
       "    </tr>\n",
       "  </tbody>\n",
       "</table>\n",
       "</div>"
      ],
      "text/plain": [
       "    group  cumulative_data_fraction  lower_threshold       lift  \\\n",
       "0       1                  0.010021         0.047292  13.273163   \n",
       "1       2                  0.020007         0.029345  10.359047   \n",
       "2       3                  0.030027         0.023221   2.457993   \n",
       "3       4                  0.040014         0.019439   5.919456   \n",
       "4       5                  0.050000         0.016938   0.986576   \n",
       "5       6                  0.100000         0.011011   2.660099   \n",
       "6       7                  0.150000         0.008555   2.266010   \n",
       "7       8                  0.200000         0.007105   1.379310   \n",
       "8       9                  0.300000         0.005508   1.034483   \n",
       "9      10                  0.400000         0.004630   0.788177   \n",
       "10     11                  0.500000         0.004057   0.394089   \n",
       "11     12                  0.600000         0.003643   0.492611   \n",
       "12     13                  0.700000         0.003320   0.443350   \n",
       "13     14                  0.800000         0.003098   0.246305   \n",
       "14     15                  0.900000         0.002929   0.000000   \n",
       "15     16                  1.000000         0.002798   0.147783   \n",
       "\n",
       "    cumulative_lift  response_rate     score  cumulative_response_rate  \\\n",
       "0         13.273163       0.092466  0.107489                  0.092466   \n",
       "1         11.818604       0.072165  0.036637                  0.082333   \n",
       "2          8.694835       0.017123  0.026006                  0.060571   \n",
       "3          8.002180       0.041237  0.021211                  0.055746   \n",
       "4          6.600985       0.006873  0.018068                  0.045985   \n",
       "5          4.630542       0.018531  0.013418                  0.032258   \n",
       "6          3.842365       0.015786  0.009682                  0.026767   \n",
       "7          3.226601       0.009609  0.007781                  0.022478   \n",
       "8          2.495895       0.007207  0.006215                  0.017387   \n",
       "9          2.068966       0.005491  0.005031                  0.014413   \n",
       "10         1.733990       0.002745  0.004324                  0.012080   \n",
       "11         1.527094       0.003432  0.003840                  0.010638   \n",
       "12         1.372273       0.003089  0.003472                  0.009560   \n",
       "13         1.231527       0.001716  0.003203                  0.008579   \n",
       "14         1.094691       0.000000  0.003010                  0.007626   \n",
       "15         1.000000       0.001030  0.002865                  0.006966   \n",
       "\n",
       "    cumulative_score  capture_rate  cumulative_capture_rate         gain  \\\n",
       "0           0.107489      0.133005                 0.133005  1227.316283   \n",
       "1           0.072124      0.103448                 0.236453   935.904728   \n",
       "2           0.056734      0.024631                 0.261084   145.799312   \n",
       "3           0.047868      0.059113                 0.320197   491.945559   \n",
       "4           0.041916      0.009852                 0.330049    -1.342407   \n",
       "5           0.027667      0.133005                 0.463054   166.009852   \n",
       "6           0.021672      0.113300                 0.576355   126.600985   \n",
       "7           0.018199      0.068966                 0.645320    37.931034   \n",
       "8           0.014205      0.103448                 0.748768     3.448276   \n",
       "9           0.011911      0.078818                 0.827586   -21.182266   \n",
       "10          0.010394      0.039409                 0.866995   -60.591133   \n",
       "11          0.009301      0.049261                 0.916256   -50.738916   \n",
       "12          0.008469      0.044335                 0.960591   -55.665025   \n",
       "13          0.007810      0.024631                 0.985222   -75.369458   \n",
       "14          0.007277      0.000000                 0.985222  -100.000000   \n",
       "15          0.006836      0.014778                 1.000000   -85.221675   \n",
       "\n",
       "    cumulative_gain  kolmogorov_smirnov  \n",
       "0       1227.316283            0.123847  \n",
       "1       1081.860430            0.217965  \n",
       "2        769.483462            0.232677  \n",
       "3        700.217999            0.282149  \n",
       "4        560.098522            0.282014  \n",
       "5        363.054187            0.365601  \n",
       "6        284.236453            0.429346  \n",
       "7        222.660099            0.448444  \n",
       "8        149.589491            0.451917  \n",
       "9        106.896552            0.430586  \n",
       "10        73.399015            0.369570  \n",
       "11        52.709360            0.318475  \n",
       "12        37.227305            0.262419  \n",
       "13        23.152709            0.186521  \n",
       "14         9.469075            0.085820  \n",
       "15         0.000000            0.000000  "
      ]
     },
     "metadata": {},
     "output_type": "display_data"
    },
    {
     "name": "stdout",
     "output_type": "stream",
     "text": [
      "\n"
     ]
    },
    {
     "data": {
      "text/plain": []
     },
     "execution_count": 370,
     "metadata": {},
     "output_type": "execute_result"
    }
   ],
   "source": [
    "leader_model.model_performance(test)"
   ]
  },
  {
   "cell_type": "code",
   "execution_count": 292,
   "metadata": {},
   "outputs": [],
   "source": [
    "# leader_model.varimp_plot()"
   ]
  },
  {
   "cell_type": "code",
   "execution_count": 353,
   "metadata": {},
   "outputs": [
    {
     "name": "stdout",
     "output_type": "stream",
     "text": [
      "stackedensemble prediction progress: |████████████████████████████████████| 100%\n"
     ]
    }
   ],
   "source": [
    "pred = leader_model.predict(test)"
   ]
  },
  {
   "cell_type": "code",
   "execution_count": 354,
   "metadata": {},
   "outputs": [],
   "source": [
    "pd=h2o.as_list(pred) \n",
    "probs=pd[\"p1\"].tolist()"
   ]
  },
  {
   "cell_type": "code",
   "execution_count": 355,
   "metadata": {},
   "outputs": [],
   "source": [
    "pd=h2o.as_list(test) \n",
    "y_test=pd[\"fraud\"].tolist()"
   ]
  },
  {
   "cell_type": "code",
   "execution_count": 356,
   "metadata": {},
   "outputs": [
    {
     "data": {
      "image/png": "[encoded data removed]",
      "text/plain": [
       "<Figure size 432x288 with 1 Axes>"
      ]
     },
     "metadata": {
      "needs_background": "light"
     },
     "output_type": "display_data"
    }
   ],
   "source": [
    "ROC(y_test,probs)"
   ]
  },
  {
   "cell_type": "code",
   "execution_count": 357,
   "metadata": {},
   "outputs": [],
   "source": [
    "from sklearn.metrics import classification_report, confusion_matrix\n",
    "def plot_cm(cm):\n",
    "    import seaborn as sns\n",
    "    import matplotlib.pyplot as plt\n",
    "    sns.heatmap(cm, annot=True,cmap=\"OrRd\",fmt='g')\n",
    "    plt.title('confusion matrix')\n",
    "    plt.xlabel('predicted')\n",
    "    plt.ylabel('actual')\n",
    "    plt.show()"
   ]
  },
  {
   "cell_type": "code",
   "execution_count": 358,
   "metadata": {},
   "outputs": [
    {
     "name": "stdout",
     "output_type": "stream",
     "text": [
      "stackedensemble prediction progress: |████████████████████████████████████| 100%\n"
     ]
    }
   ],
   "source": [
    "train_probs = leader_model.predict(train)"
   ]
  },
  {
   "cell_type": "code",
   "execution_count": 359,
   "metadata": {},
   "outputs": [
    {
     "data": {
      "text/plain": [
       "116905"
      ]
     },
     "execution_count": 359,
     "metadata": {},
     "output_type": "execute_result"
    }
   ],
   "source": [
    "pd=h2o.as_list(train_probs) \n",
    "probs=pd[\"p1\"].tolist()\n",
    "preds = np.where(np.array(probs) > 0.27529, 1, 0)\n",
    "len(preds)"
   ]
  },
  {
   "cell_type": "code",
   "execution_count": 360,
   "metadata": {},
   "outputs": [
    {
     "data": {
      "text/plain": [
       "116905"
      ]
     },
     "execution_count": 360,
     "metadata": {},
     "output_type": "execute_result"
    }
   ],
   "source": [
    "train_df=h2o.as_list(train) \n",
    "true=train_df[\"fraud\"].tolist()\n",
    "len(true)"
   ]
  },
  {
   "cell_type": "code",
   "execution_count": 361,
   "metadata": {},
   "outputs": [],
   "source": [
    "cm = confusion_matrix(true,preds)"
   ]
  },
  {
   "cell_type": "code",
   "execution_count": 362,
   "metadata": {},
   "outputs": [
    {
     "data": {
      "image/png": "[encoded data removed]",
      "text/plain": [
       "<Figure size 432x288 with 2 Axes>"
      ]
     },
     "metadata": {
      "needs_background": "light"
     },
     "output_type": "display_data"
    }
   ],
   "source": [
    "plot_cm(cm)"
   ]
  },
  {
   "cell_type": "code",
   "execution_count": 363,
   "metadata": {},
   "outputs": [
    {
     "name": "stdout",
     "output_type": "stream",
     "text": [
      "stackedensemble prediction progress: |████████████████████████████████████| 100%\n"
     ]
    }
   ],
   "source": [
    "test_probs = leader_model.predict(test)"
   ]
  },
  {
   "cell_type": "code",
   "execution_count": 364,
   "metadata": {},
   "outputs": [
    {
     "data": {
      "text/plain": [
       "29140"
      ]
     },
     "execution_count": 364,
     "metadata": {},
     "output_type": "execute_result"
    }
   ],
   "source": [
    "pd=h2o.as_list(test_probs) \n",
    "probs=pd[\"p1\"].tolist()\n",
    "preds = np.where(np.array(probs) > 0.27529, 1, 0)\n",
    "len(preds)"
   ]
  },
  {
   "cell_type": "code",
   "execution_count": 365,
   "metadata": {},
   "outputs": [
    {
     "data": {
      "text/plain": [
       "29140"
      ]
     },
     "execution_count": 365,
     "metadata": {},
     "output_type": "execute_result"
    }
   ],
   "source": [
    "test_df=h2o.as_list(test) \n",
    "true=test_df[\"fraud\"].tolist()\n",
    "len(true)"
   ]
  },
  {
   "cell_type": "code",
   "execution_count": 366,
   "metadata": {},
   "outputs": [
    {
     "data": {
      "image/png": "[encoded data removed]",
      "text/plain": [
       "<Figure size 432x288 with 2 Axes>"
      ]
     },
     "metadata": {
      "needs_background": "light"
     },
     "output_type": "display_data"
    }
   ],
   "source": [
    "cm = confusion_matrix(true,preds)\n",
    "plot_cm(cm)"
   ]
  }
 ],
 "metadata": {
  "kernelspec": {
   "display_name": "Python 3",
   "language": "python",
   "name": "python3"
  },
  "language_info": {
   "codemirror_mode": {
    "name": "ipython",
    "version": 3
   },
   "file_extension": ".py",
   "mimetype": "text/x-python",
   "name": "python",
   "nbconvert_exporter": "python",
   "pygments_lexer": "ipython3",
   "version": "3.7.6"
  }
 },
 "nbformat": 4,
 "nbformat_minor": 4
}
