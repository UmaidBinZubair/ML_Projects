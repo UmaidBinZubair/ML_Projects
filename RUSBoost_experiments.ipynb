{
 "cells": [
  {
   "cell_type": "markdown",
   "metadata": {},
   "source": [
    "## Introduction\n",
    "\n",
    "Experiments were conducted on RUSBoost model to find its generalization and the impact of randomizing distribution of training and test data.\n",
    "\n",
    "## Description\n",
    "\n",
    "\n",
    "Data Distribution\n",
    ">- 2 kinds of data was used\n",
    ">>- Paper's distribution. 1991-2005 as training dataset and 2006-2012 as testing dataset.\n",
    ">>- Random distribution of 80/20 split.\n",
    "\n",
    "Serial Data:\n",
    ">- Best model of RUSBoost, with 600 estimators was trained on both dataset, Raw and Ratio, from paper's distribution.\n",
    ">- Both models gave approx same recall of 0.5 on negative class and 0.8 on positive class.\n",
    ">- But the AUC of Raw dataset (0.733) was slightly higher than AUC of Ratio dataset (0.728).\n",
    "\n",
    "Random Data:\n",
    ">- A split of 80/20 was used for training and testing respectively with random_seed as 42 for consistent results.\n",
    ">- A subset of data with years 1991-2012 was used for consistency.\n",
    ">- AUC for random data was seemed to be higher that was 0.802 for Ratios data and 0.792 for Raw data. \n",
    ">- Although AUC was a bit higher, recall seemed to be approx 0.5 for negative class and 0.8 for positive class.\n",
    ">- Nonetheless, Random distribution seemed a bit better, which led to second experiment.\n",
    "\n",
    "Best number of estimators for Random Sampling:\n",
    ">- This experiment was only performed on Ratio data.\n",
    ">- Best AUC we got was 0.827750 with TPR:0.85714 and FPR:0.355859. Much better than before.\n",
    ">- Best no. of estimators was 350 for random sampling with recall of 0.70 for negative cases and 0.75 for positive cases and 0.811 AUC.\n",
    ">- For same model 5 iterations were run to see whether the model was generalizing and since the results were consistent for different random distribution, it seemed the model was generalizing well.\n",
    "\n",
    "Results with PRCC_F(Price Close-Annual-Fiscal):\n",
    ">- We realized that PRCC_F was sharing the info from the future, therefore our model was biased. Hence 2 models were trained, with and with PRCC_F.\n",
    ">- Shockingly, the results doesn't seem to vary much.\n",
    "\n",
    "\n",
    "## Conclusions\n",
    "\n",
    "It seemed Random distribution was performing well than the serial data. Secondly, the data seemed to generalize well. Further Hypertuning may result in better performance. Lastly, PRCC_F didn't seem to have much effect."
   ]
  },
  {
   "cell_type": "code",
   "execution_count": 10,
   "metadata": {},
   "outputs": [],
   "source": [
    "import pandas as pd\n",
    "import numpy as np\n",
    "import matplotlib.pyplot as plt\n",
    "from sklearn.metrics import classification_report, confusion_matrix\n",
    "from sklearn.model_selection import train_test_split\n",
    "from sklearn.model_selection import cross_val_score\n",
    "from sklearn.model_selection import RepeatedStratifiedKFold\n",
    "from sklearn.tree import DecisionTreeClassifier\n",
    "from sklearn.ensemble import RandomForestClassifier\n",
    "from RUSBoost.rusboost import *\n",
    "%matplotlib inline"
   ]
  },
  {
   "cell_type": "code",
   "execution_count": 11,
   "metadata": {},
   "outputs": [],
   "source": [
    "def plot_cm(cm):\n",
    "    import seaborn as sns\n",
    "    import matplotlib.pyplot as plt\n",
    "    sns.heatmap(cm, annot=True,cmap=\"OrRd\",fmt='g')\n",
    "    plt.title('confusion matrix')\n",
    "    plt.xlabel('predicted')\n",
    "    plt.ylabel('actual')\n",
    "    plt.show()"
   ]
  },
  {
   "cell_type": "code",
   "execution_count": 12,
   "metadata": {},
   "outputs": [
    {
     "data": {
      "text/html": [
       "<div>\n",
       "<style scoped>\n",
       "    .dataframe tbody tr th:only-of-type {\n",
       "        vertical-align: middle;\n",
       "    }\n",
       "\n",
       "    .dataframe tbody tr th {\n",
       "        vertical-align: top;\n",
       "    }\n",
       "\n",
       "    .dataframe thead th {\n",
       "        text-align: right;\n",
       "    }\n",
       "</style>\n",
       "<table border=\"1\" class=\"dataframe\">\n",
       "  <thead>\n",
       "    <tr style=\"text-align: right;\">\n",
       "      <th></th>\n",
       "      <th>g_id</th>\n",
       "      <th>fyear</th>\n",
       "      <th>fraud</th>\n",
       "      <th>act</th>\n",
       "      <th>ap</th>\n",
       "      <th>at</th>\n",
       "      <th>ceq</th>\n",
       "      <th>che</th>\n",
       "      <th>cogs</th>\n",
       "      <th>csho</th>\n",
       "      <th>...</th>\n",
       "      <th>ppegt</th>\n",
       "      <th>pstk</th>\n",
       "      <th>re</th>\n",
       "      <th>rect</th>\n",
       "      <th>sale</th>\n",
       "      <th>sstk</th>\n",
       "      <th>txp</th>\n",
       "      <th>txt</th>\n",
       "      <th>xint</th>\n",
       "      <th>prcc_f</th>\n",
       "    </tr>\n",
       "  </thead>\n",
       "  <tbody>\n",
       "    <tr>\n",
       "      <th>0</th>\n",
       "      <td>100001990</td>\n",
       "      <td>1990.0</td>\n",
       "      <td>0.0</td>\n",
       "      <td>320.933</td>\n",
       "      <td>32.721</td>\n",
       "      <td>422.099</td>\n",
       "      <td>151.035</td>\n",
       "      <td>15.801</td>\n",
       "      <td>309.272</td>\n",
       "      <td>13.120</td>\n",
       "      <td>...</td>\n",
       "      <td>127.824</td>\n",
       "      <td>0.0</td>\n",
       "      <td>124.587</td>\n",
       "      <td>81.173</td>\n",
       "      <td>507.820</td>\n",
       "      <td>0.012</td>\n",
       "      <td>0.561</td>\n",
       "      <td>1.932</td>\n",
       "      <td>18.941</td>\n",
       "      <td>7.625</td>\n",
       "    </tr>\n",
       "    <tr>\n",
       "      <th>1</th>\n",
       "      <td>100001991</td>\n",
       "      <td>1991.0</td>\n",
       "      <td>0.0</td>\n",
       "      <td>291.493</td>\n",
       "      <td>33.937</td>\n",
       "      <td>392.755</td>\n",
       "      <td>155.328</td>\n",
       "      <td>24.042</td>\n",
       "      <td>338.654</td>\n",
       "      <td>13.122</td>\n",
       "      <td>...</td>\n",
       "      <td>132.961</td>\n",
       "      <td>0.0</td>\n",
       "      <td>128.735</td>\n",
       "      <td>78.314</td>\n",
       "      <td>534.808</td>\n",
       "      <td>0.020</td>\n",
       "      <td>0.493</td>\n",
       "      <td>1.177</td>\n",
       "      <td>17.172</td>\n",
       "      <td>9.875</td>\n",
       "    </tr>\n",
       "    <tr>\n",
       "      <th>2</th>\n",
       "      <td>100001992</td>\n",
       "      <td>1992.0</td>\n",
       "      <td>0.0</td>\n",
       "      <td>265.317</td>\n",
       "      <td>27.145</td>\n",
       "      <td>374.930</td>\n",
       "      <td>161.128</td>\n",
       "      <td>17.025</td>\n",
       "      <td>336.882</td>\n",
       "      <td>13.122</td>\n",
       "      <td>...</td>\n",
       "      <td>144.461</td>\n",
       "      <td>0.0</td>\n",
       "      <td>134.430</td>\n",
       "      <td>83.788</td>\n",
       "      <td>535.553</td>\n",
       "      <td>0.020</td>\n",
       "      <td>1.762</td>\n",
       "      <td>1.942</td>\n",
       "      <td>12.339</td>\n",
       "      <td>13.375</td>\n",
       "    </tr>\n",
       "    <tr>\n",
       "      <th>3</th>\n",
       "      <td>100001993</td>\n",
       "      <td>1993.0</td>\n",
       "      <td>0.0</td>\n",
       "      <td>303.795</td>\n",
       "      <td>41.373</td>\n",
       "      <td>423.337</td>\n",
       "      <td>178.183</td>\n",
       "      <td>12.356</td>\n",
       "      <td>363.065</td>\n",
       "      <td>13.305</td>\n",
       "      <td>...</td>\n",
       "      <td>155.862</td>\n",
       "      <td>0.0</td>\n",
       "      <td>149.559</td>\n",
       "      <td>97.754</td>\n",
       "      <td>582.851</td>\n",
       "      <td>5.086</td>\n",
       "      <td>4.617</td>\n",
       "      <td>8.207</td>\n",
       "      <td>12.344</td>\n",
       "      <td>26.375</td>\n",
       "    </tr>\n",
       "    <tr>\n",
       "      <th>4</th>\n",
       "      <td>100001994</td>\n",
       "      <td>1994.0</td>\n",
       "      <td>0.0</td>\n",
       "      <td>335.913</td>\n",
       "      <td>31.559</td>\n",
       "      <td>469.387</td>\n",
       "      <td>195.089</td>\n",
       "      <td>8.814</td>\n",
       "      <td>404.679</td>\n",
       "      <td>13.121</td>\n",
       "      <td>...</td>\n",
       "      <td>167.356</td>\n",
       "      <td>0.0</td>\n",
       "      <td>169.856</td>\n",
       "      <td>117.002</td>\n",
       "      <td>640.810</td>\n",
       "      <td>0.538</td>\n",
       "      <td>0.000</td>\n",
       "      <td>11.732</td>\n",
       "      <td>12.288</td>\n",
       "      <td>19.625</td>\n",
       "    </tr>\n",
       "  </tbody>\n",
       "</table>\n",
       "<p>5 rows × 31 columns</p>\n",
       "</div>"
      ],
      "text/plain": [
       "        g_id   fyear  fraud      act      ap       at      ceq     che  \\\n",
       "0  100001990  1990.0    0.0  320.933  32.721  422.099  151.035  15.801   \n",
       "1  100001991  1991.0    0.0  291.493  33.937  392.755  155.328  24.042   \n",
       "2  100001992  1992.0    0.0  265.317  27.145  374.930  161.128  17.025   \n",
       "3  100001993  1993.0    0.0  303.795  41.373  423.337  178.183  12.356   \n",
       "4  100001994  1994.0    0.0  335.913  31.559  469.387  195.089   8.814   \n",
       "\n",
       "      cogs    csho  ...    ppegt  pstk       re     rect     sale   sstk  \\\n",
       "0  309.272  13.120  ...  127.824   0.0  124.587   81.173  507.820  0.012   \n",
       "1  338.654  13.122  ...  132.961   0.0  128.735   78.314  534.808  0.020   \n",
       "2  336.882  13.122  ...  144.461   0.0  134.430   83.788  535.553  0.020   \n",
       "3  363.065  13.305  ...  155.862   0.0  149.559   97.754  582.851  5.086   \n",
       "4  404.679  13.121  ...  167.356   0.0  169.856  117.002  640.810  0.538   \n",
       "\n",
       "     txp     txt    xint  prcc_f  \n",
       "0  0.561   1.932  18.941   7.625  \n",
       "1  0.493   1.177  17.172   9.875  \n",
       "2  1.762   1.942  12.339  13.375  \n",
       "3  4.617   8.207  12.344  26.375  \n",
       "4  0.000  11.732  12.288  19.625  \n",
       "\n",
       "[5 rows x 31 columns]"
      ]
     },
     "execution_count": 12,
     "metadata": {},
     "output_type": "execute_result"
    }
   ],
   "source": [
    "# reading raw data\n",
    "df_raw = pd.read_csv('../Dataset/university_data/uni_fraud.csv',sep = ';')\n",
    "df_c = df_raw[['g_id','fyear','fraud','act', 'ap', 'at', 'ceq', 'che', 'cogs', 'csho', 'dlc', 'dltis', 'dltt', 'dp', 'ib', 'invt', 'ivao', 'ivst', 'lct', 'lt', 'ni', 'ppegt', 'pstk', 're', 'rect', 'sale', 'sstk', 'txp', 'txt', 'xint', 'prcc_f']]\n",
    "df_c.head()"
   ]
  },
  {
   "cell_type": "code",
   "execution_count": 13,
   "metadata": {},
   "outputs": [
    {
     "data": {
      "text/html": [
       "<div>\n",
       "<style scoped>\n",
       "    .dataframe tbody tr th:only-of-type {\n",
       "        vertical-align: middle;\n",
       "    }\n",
       "\n",
       "    .dataframe tbody tr th {\n",
       "        vertical-align: top;\n",
       "    }\n",
       "\n",
       "    .dataframe thead th {\n",
       "        text-align: right;\n",
       "    }\n",
       "</style>\n",
       "<table border=\"1\" class=\"dataframe\">\n",
       "  <thead>\n",
       "    <tr style=\"text-align: right;\">\n",
       "      <th></th>\n",
       "      <th>g_id</th>\n",
       "      <th>fyear</th>\n",
       "      <th>gvkey</th>\n",
       "      <th>fraud</th>\n",
       "      <th>sale_flag</th>\n",
       "      <th>at_flag</th>\n",
       "      <th>sale/at</th>\n",
       "      <th>at/sale</th>\n",
       "      <th>act/sale</th>\n",
       "      <th>act/at</th>\n",
       "      <th>...</th>\n",
       "      <th>sstk/sale</th>\n",
       "      <th>sstk/at</th>\n",
       "      <th>txp/sale</th>\n",
       "      <th>txp/at</th>\n",
       "      <th>txt/sale</th>\n",
       "      <th>txt/at</th>\n",
       "      <th>xint/sale</th>\n",
       "      <th>xint/at</th>\n",
       "      <th>prcc_f/sale</th>\n",
       "      <th>prcc_f/at</th>\n",
       "    </tr>\n",
       "  </thead>\n",
       "  <tbody>\n",
       "    <tr>\n",
       "      <th>0</th>\n",
       "      <td>100001990</td>\n",
       "      <td>1990.0</td>\n",
       "      <td>10000.0</td>\n",
       "      <td>0.0</td>\n",
       "      <td>0</td>\n",
       "      <td>0</td>\n",
       "      <td>1.203083</td>\n",
       "      <td>0.831198</td>\n",
       "      <td>0.631982</td>\n",
       "      <td>0.760326</td>\n",
       "      <td>...</td>\n",
       "      <td>0.000024</td>\n",
       "      <td>0.000028</td>\n",
       "      <td>0.001105</td>\n",
       "      <td>0.001329</td>\n",
       "      <td>0.003804</td>\n",
       "      <td>0.004577</td>\n",
       "      <td>0.037299</td>\n",
       "      <td>0.044873</td>\n",
       "      <td>0.015015</td>\n",
       "      <td>0.018064</td>\n",
       "    </tr>\n",
       "    <tr>\n",
       "      <th>1</th>\n",
       "      <td>100001991</td>\n",
       "      <td>1991.0</td>\n",
       "      <td>10000.0</td>\n",
       "      <td>0.0</td>\n",
       "      <td>0</td>\n",
       "      <td>0</td>\n",
       "      <td>1.361683</td>\n",
       "      <td>0.734385</td>\n",
       "      <td>0.545042</td>\n",
       "      <td>0.742175</td>\n",
       "      <td>...</td>\n",
       "      <td>0.000037</td>\n",
       "      <td>0.000051</td>\n",
       "      <td>0.000922</td>\n",
       "      <td>0.001255</td>\n",
       "      <td>0.002201</td>\n",
       "      <td>0.002997</td>\n",
       "      <td>0.032109</td>\n",
       "      <td>0.043722</td>\n",
       "      <td>0.018465</td>\n",
       "      <td>0.025143</td>\n",
       "    </tr>\n",
       "    <tr>\n",
       "      <th>2</th>\n",
       "      <td>100001992</td>\n",
       "      <td>1992.0</td>\n",
       "      <td>10000.0</td>\n",
       "      <td>0.0</td>\n",
       "      <td>0</td>\n",
       "      <td>0</td>\n",
       "      <td>1.428408</td>\n",
       "      <td>0.700080</td>\n",
       "      <td>0.495408</td>\n",
       "      <td>0.707644</td>\n",
       "      <td>...</td>\n",
       "      <td>0.000037</td>\n",
       "      <td>0.000053</td>\n",
       "      <td>0.003290</td>\n",
       "      <td>0.004700</td>\n",
       "      <td>0.003626</td>\n",
       "      <td>0.005180</td>\n",
       "      <td>0.023040</td>\n",
       "      <td>0.032910</td>\n",
       "      <td>0.024974</td>\n",
       "      <td>0.035673</td>\n",
       "    </tr>\n",
       "    <tr>\n",
       "      <th>3</th>\n",
       "      <td>100001993</td>\n",
       "      <td>1993.0</td>\n",
       "      <td>10000.0</td>\n",
       "      <td>0.0</td>\n",
       "      <td>0</td>\n",
       "      <td>0</td>\n",
       "      <td>1.376801</td>\n",
       "      <td>0.726321</td>\n",
       "      <td>0.521222</td>\n",
       "      <td>0.717620</td>\n",
       "      <td>...</td>\n",
       "      <td>0.008726</td>\n",
       "      <td>0.012014</td>\n",
       "      <td>0.007921</td>\n",
       "      <td>0.010906</td>\n",
       "      <td>0.014081</td>\n",
       "      <td>0.019386</td>\n",
       "      <td>0.021179</td>\n",
       "      <td>0.029159</td>\n",
       "      <td>0.045252</td>\n",
       "      <td>0.062303</td>\n",
       "    </tr>\n",
       "    <tr>\n",
       "      <th>4</th>\n",
       "      <td>100001994</td>\n",
       "      <td>1994.0</td>\n",
       "      <td>10000.0</td>\n",
       "      <td>0.0</td>\n",
       "      <td>0</td>\n",
       "      <td>0</td>\n",
       "      <td>1.365206</td>\n",
       "      <td>0.732490</td>\n",
       "      <td>0.524201</td>\n",
       "      <td>0.715642</td>\n",
       "      <td>...</td>\n",
       "      <td>0.000840</td>\n",
       "      <td>0.001146</td>\n",
       "      <td>0.000000</td>\n",
       "      <td>0.000000</td>\n",
       "      <td>0.018308</td>\n",
       "      <td>0.024994</td>\n",
       "      <td>0.019176</td>\n",
       "      <td>0.026179</td>\n",
       "      <td>0.030625</td>\n",
       "      <td>0.041810</td>\n",
       "    </tr>\n",
       "  </tbody>\n",
       "</table>\n",
       "<p>5 rows × 60 columns</p>\n",
       "</div>"
      ],
      "text/plain": [
       "        g_id   fyear    gvkey  fraud  sale_flag  at_flag   sale/at   at/sale  \\\n",
       "0  100001990  1990.0  10000.0    0.0          0        0  1.203083  0.831198   \n",
       "1  100001991  1991.0  10000.0    0.0          0        0  1.361683  0.734385   \n",
       "2  100001992  1992.0  10000.0    0.0          0        0  1.428408  0.700080   \n",
       "3  100001993  1993.0  10000.0    0.0          0        0  1.376801  0.726321   \n",
       "4  100001994  1994.0  10000.0    0.0          0        0  1.365206  0.732490   \n",
       "\n",
       "   act/sale    act/at  ...  sstk/sale   sstk/at  txp/sale    txp/at  txt/sale  \\\n",
       "0  0.631982  0.760326  ...   0.000024  0.000028  0.001105  0.001329  0.003804   \n",
       "1  0.545042  0.742175  ...   0.000037  0.000051  0.000922  0.001255  0.002201   \n",
       "2  0.495408  0.707644  ...   0.000037  0.000053  0.003290  0.004700  0.003626   \n",
       "3  0.521222  0.717620  ...   0.008726  0.012014  0.007921  0.010906  0.014081   \n",
       "4  0.524201  0.715642  ...   0.000840  0.001146  0.000000  0.000000  0.018308   \n",
       "\n",
       "     txt/at  xint/sale   xint/at  prcc_f/sale  prcc_f/at  \n",
       "0  0.004577   0.037299  0.044873     0.015015   0.018064  \n",
       "1  0.002997   0.032109  0.043722     0.018465   0.025143  \n",
       "2  0.005180   0.023040  0.032910     0.024974   0.035673  \n",
       "3  0.019386   0.021179  0.029159     0.045252   0.062303  \n",
       "4  0.024994   0.019176  0.026179     0.030625   0.041810  \n",
       "\n",
       "[5 rows x 60 columns]"
      ]
     },
     "execution_count": 13,
     "metadata": {},
     "output_type": "execute_result"
    }
   ],
   "source": [
    "# reading ratio dataset\n",
    "df = pd.read_csv(\"Dataset/uni_ratios_fraud.csv\",sep = ';')\n",
    "df.head()"
   ]
  },
  {
   "cell_type": "markdown",
   "metadata": {},
   "source": [
    "## Experiment between paper's distribution and random of training and testing data.\n"
   ]
  },
  {
   "cell_type": "markdown",
   "metadata": {},
   "source": [
    "#### Model which performed best according to model experiment notebook was used for both cases. To keep the comparison fair, we used same ratio of training and testing dataset for both serial and random."
   ]
  },
  {
   "cell_type": "markdown",
   "metadata": {},
   "source": [
    "### Serial Data"
   ]
  },
  {
   "cell_type": "markdown",
   "metadata": {},
   "source": [
    "#### Serial Data preparation"
   ]
  },
  {
   "cell_type": "code",
   "execution_count": 15,
   "metadata": {},
   "outputs": [
    {
     "data": {
      "text/plain": [
       "array([1990., 1991., 1992., 1993., 1994., 1995., 1996., 1997., 1998.,\n",
       "       1999., 2000., 2001., 2002., 2003., 2004., 2005., 2006., 2007.,\n",
       "       2008., 2009., 2010., 2011., 2012., 2014., 2013.])"
      ]
     },
     "execution_count": 15,
     "metadata": {},
     "output_type": "execute_result"
    }
   ],
   "source": [
    "df_c.fyear.unique()"
   ]
  },
  {
   "cell_type": "code",
   "execution_count": 16,
   "metadata": {},
   "outputs": [],
   "source": [
    "years = np.arange(1991,2006)\n",
    "test_years = np.arange(2006,2013)"
   ]
  },
  {
   "cell_type": "code",
   "execution_count": 17,
   "metadata": {},
   "outputs": [
    {
     "name": "stderr",
     "output_type": "stream",
     "text": [
      "C:\\Users\\umaid\\anaconda3\\lib\\site-packages\\pandas\\core\\frame.py:3997: SettingWithCopyWarning: \n",
      "A value is trying to be set on a copy of a slice from a DataFrame\n",
      "\n",
      "See the caveats in the documentation: https://pandas.pydata.org/pandas-docs/stable/user_guide/indexing.html#returning-a-view-versus-a-copy\n",
      "  errors=errors,\n"
     ]
    }
   ],
   "source": [
    "X_train = df[df.fyear.isin(years)]\n",
    "X_raw_train = df_c[df_c.fyear.isin(years)]\n",
    "\n",
    "y_train = X_train.fraud\n",
    "y_raw_train = X_raw_train.fraud\n",
    "\n",
    "X_train.drop(['g_id','fyear','gvkey','fraud'],axis = 1,inplace = True)\n",
    "X_raw_train.drop(['g_id','fyear','fraud'],axis = 1,inplace = True)"
   ]
  },
  {
   "cell_type": "code",
   "execution_count": 18,
   "metadata": {},
   "outputs": [],
   "source": [
    "X_test = df[df.fyear.isin(test_years)]\n",
    "X_raw_test = df_c[df_c.fyear.isin(test_years)]\n",
    "\n",
    "y_test = X_test.fraud\n",
    "y_raw_test = X_raw_test.fraud\n",
    "\n",
    "X_test.drop(['g_id','fyear','gvkey','fraud'],axis = 1,inplace = True)\n",
    "X_raw_test.drop(['g_id','fyear','fraud'],axis = 1,inplace = True)"
   ]
  },
  {
   "cell_type": "code",
   "execution_count": 19,
   "metadata": {},
   "outputs": [],
   "source": [
    "from sklearn import preprocessing\n",
    "scaler = preprocessing.StandardScaler().fit(X_train)\n",
    "X_train = scaler.transform(X_train)\n",
    "X_test = scaler.transform(X_test)\n",
    "\n",
    "scaler_raw = preprocessing.StandardScaler().fit(X_raw_train)\n",
    "X_raw_train = scaler_raw.transform(X_raw_train)\n",
    "X_raw_test = scaler_raw.transform(X_raw_test)"
   ]
  },
  {
   "cell_type": "code",
   "execution_count": 20,
   "metadata": {},
   "outputs": [
    {
     "name": "stdout",
     "output_type": "stream",
     "text": [
      "Non Fraud cases in Training set: 90263\n",
      "Fraud cases in Training set: 748\n"
     ]
    }
   ],
   "source": [
    "print('Non Fraud cases in Training set:',sum(y_train == 0))\n",
    "print('Fraud cases in Training set:',sum(y_train == 1))"
   ]
  },
  {
   "cell_type": "code",
   "execution_count": 21,
   "metadata": {},
   "outputs": [
    {
     "name": "stdout",
     "output_type": "stream",
     "text": [
      "Non Fraud cases in Testing set: 38992\n",
      "Fraud cases in Testing set: 186\n"
     ]
    }
   ],
   "source": [
    "print('Non Fraud cases in Testing set:',sum(y_test == 0))\n",
    "print('Fraud cases in Testing set:',sum(y_test == 1))"
   ]
  },
  {
   "cell_type": "code",
   "execution_count": 22,
   "metadata": {},
   "outputs": [],
   "source": [
    "weight = sum(y_train == 0)/sum(y_train == 1)\n",
    "weights = {0:1, 1:weight}"
   ]
  },
  {
   "cell_type": "code",
   "execution_count": 23,
   "metadata": {},
   "outputs": [],
   "source": [
    "def ROC(y_test,probs):\n",
    "    import sklearn.metrics as metrics\n",
    "    fpr, tpr, threshold = metrics.roc_curve(y_test, probs)\n",
    "    roc_auc = metrics.auc(fpr, tpr)\n",
    "\n",
    "    plt.title('Receiver Operating Characteristic')\n",
    "    plt.plot(fpr, tpr, 'b', label = f'AUC = {round(roc_auc,3)}')\n",
    "    plt.legend(loc = 'lower right')\n",
    "    plt.plot([0, 1], [0, 1],'r--')\n",
    "    plt.xlim([0, 1])\n",
    "    plt.ylim([0, 1])\n",
    "    plt.ylabel('True Positive Rate')\n",
    "    plt.xlabel('False Positive Rate')\n",
    "    plt.show()"
   ]
  },
  {
   "cell_type": "markdown",
   "metadata": {},
   "source": [
    "##### Model performance on Ratio Dataset"
   ]
  },
  {
   "cell_type": "code",
   "execution_count": 67,
   "metadata": {},
   "outputs": [],
   "source": [
    "# Using best RUSBoost Model\n",
    "rus = RUSBoost(base_estimator = RandomForestClassifier(n_estimators = 2,class_weight = weights,max_depth = 5),n_estimators=600,learning_rate = 0.1,random_state = 42,min_ratio = 3)\n",
    "rus.fit(X_train,y_train,minority_target=1)\n",
    "y_pred = rus.predict(X_test)\n",
    "probs = rus.predict_proba(X_test)"
   ]
  },
  {
   "cell_type": "code",
   "execution_count": 68,
   "metadata": {},
   "outputs": [
    {
     "name": "stdout",
     "output_type": "stream",
     "text": [
      "[[20860 18132]\n",
      " [   38   148]]\n",
      "              precision    recall  f1-score   support\n",
      "\n",
      "         0.0       1.00      0.53      0.70     38992\n",
      "         1.0       0.01      0.80      0.02       186\n",
      "\n",
      "    accuracy                           0.54     39178\n",
      "   macro avg       0.50      0.67      0.36     39178\n",
      "weighted avg       0.99      0.54      0.69     39178\n",
      "\n"
     ]
    }
   ],
   "source": [
    "print(confusion_matrix(y_test,y_pred))\n",
    "print(classification_report(y_test,y_pred))"
   ]
  },
  {
   "cell_type": "code",
   "execution_count": 69,
   "metadata": {},
   "outputs": [
    {
     "data": {
      "image/png": "[encoded data removed]",
      "text/plain": [
       "<Figure size 432x288 with 1 Axes>"
      ]
     },
     "metadata": {
      "needs_background": "light"
     },
     "output_type": "display_data"
    }
   ],
   "source": [
    "ROC(y_raw_test,probs[:,1])"
   ]
  },
  {
   "cell_type": "markdown",
   "metadata": {},
   "source": [
    "#### Model performance on Raw Dataset"
   ]
  },
  {
   "cell_type": "code",
   "execution_count": 70,
   "metadata": {},
   "outputs": [],
   "source": [
    "rus = RUSBoost(base_estimator = RandomForestClassifier(n_estimators = 2,class_weight = weights,max_depth = 5),n_estimators=600,learning_rate = 0.1,random_state = 42,min_ratio = 3)\n",
    "rus.fit(X_raw_train,y_raw_train,minority_target=1)\n",
    "y_pred = rus.predict(X_raw_test)\n",
    "probs = rus.predict_proba(X_raw_test)"
   ]
  },
  {
   "cell_type": "code",
   "execution_count": 71,
   "metadata": {},
   "outputs": [
    {
     "name": "stdout",
     "output_type": "stream",
     "text": [
      "[[19915 19077]\n",
      " [   30   156]]\n",
      "              precision    recall  f1-score   support\n",
      "\n",
      "         0.0       1.00      0.51      0.68     38992\n",
      "         1.0       0.01      0.84      0.02       186\n",
      "\n",
      "    accuracy                           0.51     39178\n",
      "   macro avg       0.50      0.67      0.35     39178\n",
      "weighted avg       0.99      0.51      0.67     39178\n",
      "\n"
     ]
    }
   ],
   "source": [
    "print(confusion_matrix(y_raw_test,y_pred))\n",
    "print(classification_report(y_raw_test,y_pred))"
   ]
  },
  {
   "cell_type": "code",
   "execution_count": 72,
   "metadata": {},
   "outputs": [
    {
     "data": {
      "image/png": "[encoded data removed]",
      "text/plain": [
       "<Figure size 432x288 with 1 Axes>"
      ]
     },
     "metadata": {
      "needs_background": "light"
     },
     "output_type": "display_data"
    }
   ],
   "source": [
    "ROC(y_raw_test,probs[:,1])"
   ]
  },
  {
   "cell_type": "markdown",
   "metadata": {},
   "source": [
    "### Conclusion : In terms of AUC, raw performed slightly better with a difference of 0.005"
   ]
  },
  {
   "cell_type": "markdown",
   "metadata": {},
   "source": [
    "## Random Data"
   ]
  },
  {
   "cell_type": "code",
   "execution_count": 39,
   "metadata": {},
   "outputs": [],
   "source": [
    "years = np.arange(1991,2013)"
   ]
  },
  {
   "cell_type": "code",
   "execution_count": 40,
   "metadata": {},
   "outputs": [],
   "source": [
    "X_train = df.copy()\n",
    "X_train = X_train[X_train.fyear.isin(years)]\n",
    "X_raw_train = df_c.copy()\n",
    "X_raw_train = X_raw_train[X_raw_train.fyear.isin(years)]"
   ]
  },
  {
   "cell_type": "code",
   "execution_count": 41,
   "metadata": {},
   "outputs": [],
   "source": [
    "y_train = X_train.fraud\n",
    "y_raw_train = X_raw_train.fraud"
   ]
  },
  {
   "cell_type": "code",
   "execution_count": 42,
   "metadata": {},
   "outputs": [],
   "source": [
    "X_train.drop(['g_id','fyear','gvkey','fraud'],axis = 1,inplace = True)\n",
    "X_raw_train.drop(['g_id','fyear','fraud'],axis = 1,inplace = True)"
   ]
  },
  {
   "cell_type": "code",
   "execution_count": 43,
   "metadata": {},
   "outputs": [],
   "source": [
    "X_train, X_test, y_train, y_test = train_test_split(X_train, y_train, test_size = 0.20,random_state = 42)\n",
    "X_raw_train, X_raw_test, y_raw_train, y_raw_test = train_test_split(X_raw_train, y_raw_train, test_size = 0.20,random_state = 42)"
   ]
  },
  {
   "cell_type": "code",
   "execution_count": 44,
   "metadata": {},
   "outputs": [],
   "source": [
    "# X_random_train, X_random_test, y_random_train, y_random_test = train_test_split(X_train, y_train, test_size = 0.2,random_state = 42)\n",
    "# X_raw_random_train, X_raw_random_test, y_raw_random_train, y_raw_random_test = train_test_split(X_raw_random_train, y_raw_random_train, test_size = 0.43,random_state = 100)"
   ]
  },
  {
   "cell_type": "code",
   "execution_count": 45,
   "metadata": {},
   "outputs": [
    {
     "name": "stdout",
     "output_type": "stream",
     "text": [
      "Non Fraud cases in Training set: 103409\n",
      "Fraud cases in Training set: 742\n"
     ]
    }
   ],
   "source": [
    "print('Non Fraud cases in Training set:',sum(y_train == 0))\n",
    "print('Fraud cases in Training set:',sum(y_train == 1))"
   ]
  },
  {
   "cell_type": "code",
   "execution_count": 46,
   "metadata": {},
   "outputs": [
    {
     "name": "stdout",
     "output_type": "stream",
     "text": [
      "Non Fraud cases in Testing set: 25846\n",
      "Fraud cases in Testing set: 192\n"
     ]
    }
   ],
   "source": [
    "print('Non Fraud cases in Testing set:',sum(y_test == 0))\n",
    "print('Fraud cases in Testing set:',sum(y_test == 1))"
   ]
  },
  {
   "cell_type": "markdown",
   "metadata": {},
   "source": [
    "#####  Model performance of Random Ratio Dataset"
   ]
  },
  {
   "cell_type": "code",
   "execution_count": 47,
   "metadata": {},
   "outputs": [],
   "source": [
    "weight = sum(y_train == 0)/sum(y_train == 1)\n",
    "weights = {0:1, 1:weight}"
   ]
  },
  {
   "cell_type": "code",
   "execution_count": 48,
   "metadata": {},
   "outputs": [],
   "source": [
    "rus = RUSBoost(base_estimator = RandomForestClassifier(n_estimators = 2,class_weight = weights,max_depth = 5),n_estimators=600,learning_rate = 0.1,random_state = 42,min_ratio = 3)\n",
    "rus.fit(X_train,y_train,minority_target=1)\n",
    "y_pred = rus.predict(X_test)\n",
    "probs = rus.predict_proba(X_test)"
   ]
  },
  {
   "cell_type": "code",
   "execution_count": 52,
   "metadata": {},
   "outputs": [
    {
     "name": "stdout",
     "output_type": "stream",
     "text": [
      "              precision    recall  f1-score   support\n",
      "\n",
      "         0.0       1.00      0.53      0.70     25846\n",
      "         1.0       0.01      0.85      0.03       192\n",
      "\n",
      "    accuracy                           0.54     26038\n",
      "   macro avg       0.51      0.69      0.36     26038\n",
      "weighted avg       0.99      0.54      0.69     26038\n",
      "\n"
     ]
    },
    {
     "data": {
      "image/png": "[encoded data removed]",
      "text/plain": [
       "<Figure size 432x288 with 2 Axes>"
      ]
     },
     "metadata": {
      "needs_background": "light"
     },
     "output_type": "display_data"
    }
   ],
   "source": [
    "cm = confusion_matrix(y_test,y_pred)\n",
    "print(classification_report(y_test,y_pred))\n",
    "plot_cm(cm)"
   ]
  },
  {
   "cell_type": "code",
   "execution_count": 53,
   "metadata": {},
   "outputs": [
    {
     "data": {
      "image/png": "[encoded data removed]",
      "text/plain": [
       "<Figure size 432x288 with 1 Axes>"
      ]
     },
     "metadata": {
      "needs_background": "light"
     },
     "output_type": "display_data"
    }
   ],
   "source": [
    "ROC(y_test,probs[:,1])"
   ]
  },
  {
   "cell_type": "markdown",
   "metadata": {},
   "source": [
    "#####  Model performance of Random Raw Dataset"
   ]
  },
  {
   "cell_type": "code",
   "execution_count": 54,
   "metadata": {},
   "outputs": [],
   "source": [
    "rus = RUSBoost(base_estimator = RandomForestClassifier(n_estimators = 2,class_weight = weights,max_depth = 5),n_estimators=600,learning_rate = 0.1,random_state = 42,min_ratio = 3)\n",
    "rus.fit(X_raw_train,y_raw_train,minority_target=1)\n",
    "y_pred = rus.predict(X_raw_test)\n",
    "probs = rus.predict_proba(X_raw_test)"
   ]
  },
  {
   "cell_type": "code",
   "execution_count": 55,
   "metadata": {},
   "outputs": [
    {
     "name": "stdout",
     "output_type": "stream",
     "text": [
      "              precision    recall  f1-score   support\n",
      "\n",
      "         0.0       1.00      0.53      0.69     25846\n",
      "         1.0       0.01      0.85      0.03       192\n",
      "\n",
      "    accuracy                           0.53     26038\n",
      "   macro avg       0.51      0.69      0.36     26038\n",
      "weighted avg       0.99      0.53      0.69     26038\n",
      "\n"
     ]
    },
    {
     "data": {
      "image/png": "[encoded data removed]",
      "text/plain": [
       "<Figure size 432x288 with 2 Axes>"
      ]
     },
     "metadata": {
      "needs_background": "light"
     },
     "output_type": "display_data"
    }
   ],
   "source": [
    "cm = confusion_matrix(y_raw_test,y_pred)\n",
    "print(classification_report(y_raw_test,y_pred))\n",
    "plot_cm(cm)"
   ]
  },
  {
   "cell_type": "code",
   "execution_count": 56,
   "metadata": {},
   "outputs": [
    {
     "data": {
      "image/png": "[encoded data removed]",
      "text/plain": [
       "<Figure size 432x288 with 1 Axes>"
      ]
     },
     "metadata": {
      "needs_background": "light"
     },
     "output_type": "display_data"
    }
   ],
   "source": [
    "ROC(y_raw_test,probs[:,1])"
   ]
  },
  {
   "cell_type": "markdown",
   "metadata": {},
   "source": [
    "#### Conclusion"
   ]
  },
  {
   "cell_type": "code",
   "execution_count": 57,
   "metadata": {},
   "outputs": [
    {
     "data": {
      "text/html": [
       "<div>\n",
       "<style scoped>\n",
       "    .dataframe tbody tr th:only-of-type {\n",
       "        vertical-align: middle;\n",
       "    }\n",
       "\n",
       "    .dataframe tbody tr th {\n",
       "        vertical-align: top;\n",
       "    }\n",
       "\n",
       "    .dataframe thead th {\n",
       "        text-align: right;\n",
       "    }\n",
       "</style>\n",
       "<table border=\"1\" class=\"dataframe\">\n",
       "  <thead>\n",
       "    <tr style=\"text-align: right;\">\n",
       "      <th></th>\n",
       "      <th>serial_raw</th>\n",
       "      <th>serial_ratio</th>\n",
       "      <th>random_raw</th>\n",
       "      <th>random_ratio</th>\n",
       "    </tr>\n",
       "  </thead>\n",
       "  <tbody>\n",
       "    <tr>\n",
       "      <th>AUC</th>\n",
       "      <td>0.733</td>\n",
       "      <td>0.728</td>\n",
       "      <td>0.792</td>\n",
       "      <td>0.802</td>\n",
       "    </tr>\n",
       "  </tbody>\n",
       "</table>\n",
       "</div>"
      ],
      "text/plain": [
       "     serial_raw  serial_ratio  random_raw  random_ratio\n",
       "AUC       0.733         0.728       0.792         0.802"
      ]
     },
     "execution_count": 57,
     "metadata": {},
     "output_type": "execute_result"
    }
   ],
   "source": [
    "AUC = {'serial_raw':[0.733],'serial_ratio':[0.728],'random_raw':[0.792],'random_ratio':[0.802]}\n",
    "AUC = pd.DataFrame(AUC,index=['AUC'])\n",
    "AUC"
   ]
  },
  {
   "cell_type": "code",
   "execution_count": 60,
   "metadata": {},
   "outputs": [
    {
     "data": {
      "image/png": "[encoded data removed]",
      "text/plain": [
       "<Figure size 432x288 with 1 Axes>"
      ]
     },
     "metadata": {
      "needs_background": "light"
     },
     "output_type": "display_data"
    }
   ],
   "source": [
    "ax = AUC.T.plot(kind = 'bar',rot = 0)\n",
    "mean = AUC.mean(axis = 1).values\n",
    "ax.axhline(mean, color='red')\n",
    "ax.annotate('Mean: {:0.2f}'.format(mean[0]), xy=(mean[0], 0.9), xytext=(15, 15),\n",
    "            xycoords=('data', 'axes fraction'), textcoords='offset points', verticalalignment='center',\n",
    "            arrowprops=dict(arrowstyle='-|>', fc='black', shrinkA=0, shrinkB=0,\n",
    "                            connectionstyle='angle,angleA=0,angleB=90,rad=10'))\n",
    "\n",
    "ax.set_ylabel('AUC')\n",
    "ax.set_xlabel('Distribution types')\n",
    "ax.set_title('Distribution check based on AUC')\n",
    "plt.show()"
   ]
  },
  {
   "cell_type": "markdown",
   "metadata": {},
   "source": [
    "##### - Random sampling performed slightly better\n",
    "##### - AUC for all distribution wasn't far off from each other\n",
    "##### - All models produced 0.5 recall for negative classes and 0.85 for positive class\n",
    "##### - AUC doesn't seems to be a good measure and RUSBoost isn't performing that great"
   ]
  },
  {
   "cell_type": "markdown",
   "metadata": {},
   "source": [
    "****"
   ]
  },
  {
   "cell_type": "markdown",
   "metadata": {},
   "source": [
    "### Last RUSBoost Experiment with Random Ratio Dataset"
   ]
  },
  {
   "cell_type": "markdown",
   "metadata": {},
   "source": [
    "#### Just to make sure of generalization and effect of random sampling, I performed last experiment."
   ]
  },
  {
   "cell_type": "code",
   "execution_count": 61,
   "metadata": {},
   "outputs": [],
   "source": [
    "def rates(y_test,y_pred):\n",
    "    mat = confusion_matrix(y_test,y_pred)\n",
    "    TPR = mat[1,1]/(mat[1,1] + mat[1,0]) # Recall (True positive rate)\n",
    "    FPR = mat[0,1]/(mat[0,1]+mat[0,0]) # (False positive rate)\n",
    "    return([TPR,FPR])"
   ]
  },
  {
   "cell_type": "code",
   "execution_count": 413,
   "metadata": {},
   "outputs": [],
   "source": [
    "X_train = df.copy()\n",
    "y_train = X_train.fraud\n",
    "X_train.drop(['g_id','fyear','gvkey','fraud'],axis = 1,inplace = True)"
   ]
  },
  {
   "cell_type": "code",
   "execution_count": 414,
   "metadata": {},
   "outputs": [],
   "source": [
    "X_random_train, X_random_test, y_random_train, y_random_test = train_test_split(X_train, y_train, test_size = 0.20,random_state = 42)"
   ]
  },
  {
   "cell_type": "code",
   "execution_count": 66,
   "metadata": {},
   "outputs": [
    {
     "name": "stdout",
     "output_type": "stream",
     "text": [
      "Estimators: 50\n",
      "Estimators: 100\n",
      "Estimators: 150\n",
      "Estimators: 200\n",
      "Estimators: 250\n",
      "Estimators: 300\n",
      "Estimators: 350\n",
      "Estimators: 400\n",
      "Estimators: 450\n",
      "Estimators: 500\n",
      "Estimators: 550\n",
      "Estimators: 600\n",
      "Estimators: 650\n",
      "Estimators: 700\n",
      "Estimators: 750\n",
      "Estimators: 800\n",
      "Estimators: 850\n",
      "Estimators: 900\n",
      "Estimators: 950\n",
      "Estimators: 1000\n"
     ]
    }
   ],
   "source": [
    "ROC = {'Train_TPR':[],'Train_FPR':[],'Train_AUC':[],'Test_TPR':[],'Test_FPR':[],\n",
    "       'Train_AUC':[],'Test_AUC':[],'EST':[]}\n",
    "for estimators in np.arange(50,1001,50):\n",
    "    print('Estimators:',estimators)\n",
    "    rus = RUSBoost(base_estimator = RandomForestClassifier(n_estimators = 2,class_weight = weights,max_depth = 5),n_estimators=estimators,learning_rate = 0.1,random_state = 42,min_ratio = 3)\n",
    "    rus.fit(X_random_train,y_random_train,minority_target=1)\n",
    "    \n",
    "    test_pred = rus.predict(X_random_test)\n",
    "    test_probs = rus.predict_proba(X_random_test)\n",
    "    \n",
    "    train_pred = rus.predict(X_random_train)\n",
    "    train_probs = rus.predict_proba(X_random_train)\n",
    "    \n",
    "    test_preds = test_probs[:,1]\n",
    "    train_preds = train_probs[:,1]\n",
    "    \n",
    "    test_fpr, test_tpr, test_threshold = metrics.roc_curve(y_random_test, test_preds)\n",
    "    train_fpr, train_tpr, train_threshold = metrics.roc_curve(y_random_train, train_preds)\n",
    "    \n",
    "    test_roc_auc = metrics.auc(test_fpr, test_tpr)\n",
    "    train_roc_auc = metrics.auc(train_fpr, train_tpr)\n",
    "    \n",
    "    test_rates_list = rates(y_random_test,test_pred)\n",
    "    train_rates_list = rates(y_random_train,train_pred)\n",
    "    \n",
    "    ROC['Test_TPR'].append(test_rates_list[0])\n",
    "    ROC['Test_FPR'].append(test_rates_list[1])\n",
    "    \n",
    "    ROC['Train_TPR'].append(train_rates_list[0])\n",
    "    ROC['Train_FPR'].append(train_rates_list[1])\n",
    "    \n",
    "    ROC['Test_AUC'].append(test_roc_auc)\n",
    "    ROC['Train_AUC'].append(train_roc_auc)\n",
    "    \n",
    "    ROC['EST'].append(estimators)"
   ]
  },
  {
   "cell_type": "code",
   "execution_count": 67,
   "metadata": {},
   "outputs": [
    {
     "data": {
      "text/html": [
       "<div>\n",
       "<style scoped>\n",
       "    .dataframe tbody tr th:only-of-type {\n",
       "        vertical-align: middle;\n",
       "    }\n",
       "\n",
       "    .dataframe tbody tr th {\n",
       "        vertical-align: top;\n",
       "    }\n",
       "\n",
       "    .dataframe thead th {\n",
       "        text-align: right;\n",
       "    }\n",
       "</style>\n",
       "<table border=\"1\" class=\"dataframe\">\n",
       "  <thead>\n",
       "    <tr style=\"text-align: right;\">\n",
       "      <th></th>\n",
       "      <th>Train_TPR</th>\n",
       "      <th>Train_FPR</th>\n",
       "      <th>Train_AUC</th>\n",
       "      <th>Test_TPR</th>\n",
       "      <th>Test_FPR</th>\n",
       "      <th>Test_AUC</th>\n",
       "      <th>EST</th>\n",
       "      <th>diff</th>\n",
       "    </tr>\n",
       "  </thead>\n",
       "  <tbody>\n",
       "    <tr>\n",
       "      <th>7</th>\n",
       "      <td>1.000000</td>\n",
       "      <td>0.315881</td>\n",
       "      <td>0.990091</td>\n",
       "      <td>0.851429</td>\n",
       "      <td>0.322484</td>\n",
       "      <td>0.829847</td>\n",
       "      <td>400</td>\n",
       "      <td>0.528945</td>\n",
       "    </tr>\n",
       "    <tr>\n",
       "      <th>6</th>\n",
       "      <td>1.000000</td>\n",
       "      <td>0.281998</td>\n",
       "      <td>0.989979</td>\n",
       "      <td>0.805714</td>\n",
       "      <td>0.287077</td>\n",
       "      <td>0.824629</td>\n",
       "      <td>350</td>\n",
       "      <td>0.518637</td>\n",
       "    </tr>\n",
       "    <tr>\n",
       "      <th>5</th>\n",
       "      <td>1.000000</td>\n",
       "      <td>0.253578</td>\n",
       "      <td>0.989211</td>\n",
       "      <td>0.777143</td>\n",
       "      <td>0.261452</td>\n",
       "      <td>0.819944</td>\n",
       "      <td>300</td>\n",
       "      <td>0.515691</td>\n",
       "    </tr>\n",
       "    <tr>\n",
       "      <th>1</th>\n",
       "      <td>0.963245</td>\n",
       "      <td>0.204865</td>\n",
       "      <td>0.958425</td>\n",
       "      <td>0.720000</td>\n",
       "      <td>0.208790</td>\n",
       "      <td>0.814885</td>\n",
       "      <td>100</td>\n",
       "      <td>0.511210</td>\n",
       "    </tr>\n",
       "    <tr>\n",
       "      <th>8</th>\n",
       "      <td>1.000000</td>\n",
       "      <td>0.348023</td>\n",
       "      <td>0.990309</td>\n",
       "      <td>0.857143</td>\n",
       "      <td>0.355859</td>\n",
       "      <td>0.827750</td>\n",
       "      <td>450</td>\n",
       "      <td>0.501284</td>\n",
       "    </tr>\n",
       "    <tr>\n",
       "      <th>4</th>\n",
       "      <td>1.000000</td>\n",
       "      <td>0.221815</td>\n",
       "      <td>0.988230</td>\n",
       "      <td>0.725714</td>\n",
       "      <td>0.228456</td>\n",
       "      <td>0.819136</td>\n",
       "      <td>250</td>\n",
       "      <td>0.497258</td>\n",
       "    </tr>\n",
       "    <tr>\n",
       "      <th>3</th>\n",
       "      <td>1.000000</td>\n",
       "      <td>0.206580</td>\n",
       "      <td>0.984857</td>\n",
       "      <td>0.708571</td>\n",
       "      <td>0.212819</td>\n",
       "      <td>0.816428</td>\n",
       "      <td>200</td>\n",
       "      <td>0.495752</td>\n",
       "    </tr>\n",
       "    <tr>\n",
       "      <th>0</th>\n",
       "      <td>0.903676</td>\n",
       "      <td>0.237576</td>\n",
       "      <td>0.918426</td>\n",
       "      <td>0.737143</td>\n",
       "      <td>0.241682</td>\n",
       "      <td>0.809165</td>\n",
       "      <td>50</td>\n",
       "      <td>0.495461</td>\n",
       "    </tr>\n",
       "    <tr>\n",
       "      <th>9</th>\n",
       "      <td>1.000000</td>\n",
       "      <td>0.381432</td>\n",
       "      <td>0.989610</td>\n",
       "      <td>0.880000</td>\n",
       "      <td>0.388097</td>\n",
       "      <td>0.826175</td>\n",
       "      <td>500</td>\n",
       "      <td>0.491903</td>\n",
       "    </tr>\n",
       "    <tr>\n",
       "      <th>2</th>\n",
       "      <td>0.997465</td>\n",
       "      <td>0.196619</td>\n",
       "      <td>0.977709</td>\n",
       "      <td>0.674286</td>\n",
       "      <td>0.200351</td>\n",
       "      <td>0.807627</td>\n",
       "      <td>150</td>\n",
       "      <td>0.473934</td>\n",
       "    </tr>\n",
       "    <tr>\n",
       "      <th>10</th>\n",
       "      <td>1.000000</td>\n",
       "      <td>0.414013</td>\n",
       "      <td>0.988998</td>\n",
       "      <td>0.885714</td>\n",
       "      <td>0.420989</td>\n",
       "      <td>0.822882</td>\n",
       "      <td>550</td>\n",
       "      <td>0.464725</td>\n",
       "    </tr>\n",
       "    <tr>\n",
       "      <th>11</th>\n",
       "      <td>1.000000</td>\n",
       "      <td>0.449318</td>\n",
       "      <td>0.988517</td>\n",
       "      <td>0.891429</td>\n",
       "      <td>0.457050</td>\n",
       "      <td>0.821722</td>\n",
       "      <td>600</td>\n",
       "      <td>0.434378</td>\n",
       "    </tr>\n",
       "    <tr>\n",
       "      <th>12</th>\n",
       "      <td>1.000000</td>\n",
       "      <td>0.482968</td>\n",
       "      <td>0.987323</td>\n",
       "      <td>0.902857</td>\n",
       "      <td>0.493146</td>\n",
       "      <td>0.820418</td>\n",
       "      <td>650</td>\n",
       "      <td>0.409711</td>\n",
       "    </tr>\n",
       "    <tr>\n",
       "      <th>13</th>\n",
       "      <td>1.000000</td>\n",
       "      <td>0.514188</td>\n",
       "      <td>0.985617</td>\n",
       "      <td>0.920000</td>\n",
       "      <td>0.524867</td>\n",
       "      <td>0.820043</td>\n",
       "      <td>700</td>\n",
       "      <td>0.395133</td>\n",
       "    </tr>\n",
       "    <tr>\n",
       "      <th>14</th>\n",
       "      <td>1.000000</td>\n",
       "      <td>0.545856</td>\n",
       "      <td>0.983322</td>\n",
       "      <td>0.931429</td>\n",
       "      <td>0.554488</td>\n",
       "      <td>0.815949</td>\n",
       "      <td>750</td>\n",
       "      <td>0.376941</td>\n",
       "    </tr>\n",
       "    <tr>\n",
       "      <th>15</th>\n",
       "      <td>1.000000</td>\n",
       "      <td>0.580679</td>\n",
       "      <td>0.980452</td>\n",
       "      <td>0.948571</td>\n",
       "      <td>0.590721</td>\n",
       "      <td>0.812939</td>\n",
       "      <td>800</td>\n",
       "      <td>0.357850</td>\n",
       "    </tr>\n",
       "    <tr>\n",
       "      <th>16</th>\n",
       "      <td>1.000000</td>\n",
       "      <td>0.620507</td>\n",
       "      <td>0.976984</td>\n",
       "      <td>0.960000</td>\n",
       "      <td>0.629262</td>\n",
       "      <td>0.811147</td>\n",
       "      <td>850</td>\n",
       "      <td>0.330738</td>\n",
       "    </tr>\n",
       "    <tr>\n",
       "      <th>17</th>\n",
       "      <td>1.000000</td>\n",
       "      <td>0.656699</td>\n",
       "      <td>0.973747</td>\n",
       "      <td>0.965714</td>\n",
       "      <td>0.665771</td>\n",
       "      <td>0.808589</td>\n",
       "      <td>900</td>\n",
       "      <td>0.299943</td>\n",
       "    </tr>\n",
       "    <tr>\n",
       "      <th>18</th>\n",
       "      <td>1.000000</td>\n",
       "      <td>0.687170</td>\n",
       "      <td>0.969950</td>\n",
       "      <td>0.988571</td>\n",
       "      <td>0.695047</td>\n",
       "      <td>0.803932</td>\n",
       "      <td>950</td>\n",
       "      <td>0.293524</td>\n",
       "    </tr>\n",
       "    <tr>\n",
       "      <th>19</th>\n",
       "      <td>1.000000</td>\n",
       "      <td>0.727955</td>\n",
       "      <td>0.965949</td>\n",
       "      <td>0.994286</td>\n",
       "      <td>0.735448</td>\n",
       "      <td>0.804339</td>\n",
       "      <td>1000</td>\n",
       "      <td>0.258838</td>\n",
       "    </tr>\n",
       "  </tbody>\n",
       "</table>\n",
       "</div>"
      ],
      "text/plain": [
       "    Train_TPR  Train_FPR  Train_AUC  Test_TPR  Test_FPR  Test_AUC   EST  \\\n",
       "7    1.000000   0.315881   0.990091  0.851429  0.322484  0.829847   400   \n",
       "6    1.000000   0.281998   0.989979  0.805714  0.287077  0.824629   350   \n",
       "5    1.000000   0.253578   0.989211  0.777143  0.261452  0.819944   300   \n",
       "1    0.963245   0.204865   0.958425  0.720000  0.208790  0.814885   100   \n",
       "8    1.000000   0.348023   0.990309  0.857143  0.355859  0.827750   450   \n",
       "4    1.000000   0.221815   0.988230  0.725714  0.228456  0.819136   250   \n",
       "3    1.000000   0.206580   0.984857  0.708571  0.212819  0.816428   200   \n",
       "0    0.903676   0.237576   0.918426  0.737143  0.241682  0.809165    50   \n",
       "9    1.000000   0.381432   0.989610  0.880000  0.388097  0.826175   500   \n",
       "2    0.997465   0.196619   0.977709  0.674286  0.200351  0.807627   150   \n",
       "10   1.000000   0.414013   0.988998  0.885714  0.420989  0.822882   550   \n",
       "11   1.000000   0.449318   0.988517  0.891429  0.457050  0.821722   600   \n",
       "12   1.000000   0.482968   0.987323  0.902857  0.493146  0.820418   650   \n",
       "13   1.000000   0.514188   0.985617  0.920000  0.524867  0.820043   700   \n",
       "14   1.000000   0.545856   0.983322  0.931429  0.554488  0.815949   750   \n",
       "15   1.000000   0.580679   0.980452  0.948571  0.590721  0.812939   800   \n",
       "16   1.000000   0.620507   0.976984  0.960000  0.629262  0.811147   850   \n",
       "17   1.000000   0.656699   0.973747  0.965714  0.665771  0.808589   900   \n",
       "18   1.000000   0.687170   0.969950  0.988571  0.695047  0.803932   950   \n",
       "19   1.000000   0.727955   0.965949  0.994286  0.735448  0.804339  1000   \n",
       "\n",
       "        diff  \n",
       "7   0.528945  \n",
       "6   0.518637  \n",
       "5   0.515691  \n",
       "1   0.511210  \n",
       "8   0.501284  \n",
       "4   0.497258  \n",
       "3   0.495752  \n",
       "0   0.495461  \n",
       "9   0.491903  \n",
       "2   0.473934  \n",
       "10  0.464725  \n",
       "11  0.434378  \n",
       "12  0.409711  \n",
       "13  0.395133  \n",
       "14  0.376941  \n",
       "15  0.357850  \n",
       "16  0.330738  \n",
       "17  0.299943  \n",
       "18  0.293524  \n",
       "19  0.258838  "
      ]
     },
     "execution_count": 67,
     "metadata": {},
     "output_type": "execute_result"
    }
   ],
   "source": [
    "ROC = pd.DataFrame(ROC)\n",
    "ROC['diff'] = ROC['Test_TPR'] - ROC['Test_FPR']\n",
    "ROC.sort_values('diff',ascending = False)"
   ]
  },
  {
   "cell_type": "code",
   "execution_count": 68,
   "metadata": {},
   "outputs": [
    {
     "data": {
      "image/png": "[encoded data removed]",
      "text/plain": [
       "<Figure size 432x288 with 1 Axes>"
      ]
     },
     "metadata": {
      "needs_background": "light"
     },
     "output_type": "display_data"
    }
   ],
   "source": [
    "fig = plt.figure()\n",
    "ax1 = fig.add_subplot(111)\n",
    "\n",
    "ax1.scatter(ROC.Train_FPR.values,ROC.Train_TPR.values, label='Train')\n",
    "ax1.scatter(ROC.Test_FPR.values, ROC.Test_TPR.values, label='Test')\n",
    "\n",
    "plt.legend(loc='lower right');\n",
    "plt.xlabel('FPR')\n",
    "plt.ylabel('TPR')\n",
    "plt.show()"
   ]
  },
  {
   "cell_type": "markdown",
   "metadata": {},
   "source": [
    "#### It seems that the best no. of estimators is 350 for random sampling with recall of 0.70 for negative cases and 0.75 for positive cases"
   ]
  },
  {
   "cell_type": "code",
   "execution_count": 326,
   "metadata": {},
   "outputs": [],
   "source": [
    "# Selecting the model\n",
    "rus = RUSBoost(base_estimator = RandomForestClassifier(n_estimators = 2,class_weight = weights,max_depth = 5),n_estimators=350,learning_rate = 0.1,random_state = 42,min_ratio = 3)\n",
    "rus.fit(X_random_train,y_random_train,minority_target=1)"
   ]
  },
  {
   "cell_type": "code",
   "execution_count": 332,
   "metadata": {},
   "outputs": [
    {
     "name": "stdout",
     "output_type": "stream",
     "text": [
      "              precision    recall  f1-score   support\n",
      "\n",
      "         0.0       1.00      0.71      0.83    103401\n",
      "         1.0       0.02      1.00      0.05       750\n",
      "\n",
      "    accuracy                           0.72    104151\n",
      "   macro avg       0.51      0.86      0.44    104151\n",
      "weighted avg       0.99      0.72      0.83    104151\n",
      "\n"
     ]
    },
    {
     "data": {
      "image/png": "[encoded data removed]",
      "text/plain": [
       "<Figure size 432x288 with 2 Axes>"
      ]
     },
     "metadata": {
      "needs_background": "light"
     },
     "output_type": "display_data"
    }
   ],
   "source": [
    "# Results on train dataset\n",
    "X_random_pred = rus.predict(X_random_train)\n",
    "cm = confusion_matrix(y_random_train,X_random_pred)\n",
    "print(classification_report(y_random_train,X_random_pred))\n",
    "plot_cm(cm)"
   ]
  },
  {
   "cell_type": "code",
   "execution_count": 331,
   "metadata": {},
   "outputs": [
    {
     "name": "stdout",
     "output_type": "stream",
     "text": [
      "              precision    recall  f1-score   support\n",
      "\n",
      "         0.0       1.00      0.71      0.83     25854\n",
      "         1.0       0.02      0.77      0.04       184\n",
      "\n",
      "    accuracy                           0.71     26038\n",
      "   macro avg       0.51      0.74      0.43     26038\n",
      "weighted avg       0.99      0.71      0.82     26038\n",
      "\n"
     ]
    },
    {
     "data": {
      "image/png": "[encoded data removed]",
      "text/plain": [
       "<Figure size 432x288 with 2 Axes>"
      ]
     },
     "metadata": {
      "needs_background": "light"
     },
     "output_type": "display_data"
    }
   ],
   "source": [
    "# Results on test dataset\n",
    "y_random_pred = rus.predict(X_random_test)\n",
    "print(classification_report(y_random_test,y_random_pred))\n",
    "cm = confusion_matrix(y_random_test,y_random_pred)\n",
    "plot_cm(cm)"
   ]
  },
  {
   "cell_type": "code",
   "execution_count": 384,
   "metadata": {},
   "outputs": [
    {
     "data": {
      "image/png": "[encoded data removed]",
      "text/plain": [
       "<Figure size 432x288 with 1 Axes>"
      ]
     },
     "metadata": {
      "needs_background": "light"
     },
     "output_type": "display_data"
    }
   ],
   "source": [
    "probs = rus.predict_proba(X_random_test)\n",
    "ROC(y_random_test,probs[:,1])"
   ]
  },
  {
   "cell_type": "markdown",
   "metadata": {},
   "source": [
    "****"
   ]
  },
  {
   "cell_type": "markdown",
   "metadata": {},
   "source": [
    "#### Checking generalization of the model"
   ]
  },
  {
   "cell_type": "code",
   "execution_count": 335,
   "metadata": {},
   "outputs": [
    {
     "name": "stdout",
     "output_type": "stream",
     "text": [
      "iteration: 0\n",
      "iteration: 1\n",
      "iteration: 2\n",
      "iteration: 3\n",
      "iteration: 4\n"
     ]
    }
   ],
   "source": [
    "ROC = {'Train_TPR':[],'Train_FPR':[],'Train_AUC':[],'Test_TPR':[],'Test_FPR':[],\n",
    "       'Train_AUC':[],'Test_AUC':[],'True':[]}\n",
    "for i in range(5):\n",
    "    print('iteration:',i)\n",
    "    X_random_train, X_random_test, y_random_train, y_random_test = train_test_split(X_train, y_train, test_size = 0.43)\n",
    "    rus = RUSBoost(base_estimator = RandomForestClassifier(n_estimators = 2,class_weight = weights,max_depth = 5),n_estimators=350,learning_rate = 0.1,random_state = 42,min_ratio = 3)\n",
    "    rus.fit(X_random_train,y_random_train,minority_target=1)\n",
    "    \n",
    "    test_pred = rus.predict(X_random_test)\n",
    "    test_probs = rus.predict_proba(X_random_test)\n",
    "    \n",
    "    train_pred = rus.predict(X_random_train)\n",
    "    train_probs = rus.predict_proba(X_random_train)\n",
    "    \n",
    "    test_preds = test_probs[:,1]\n",
    "    train_preds = train_probs[:,1]\n",
    "    \n",
    "    test_fpr, test_tpr, test_threshold = metrics.roc_curve(y_random_test, test_preds)\n",
    "    train_fpr, train_tpr, train_threshold = metrics.roc_curve(y_random_train, train_preds)\n",
    "    \n",
    "    test_roc_auc = metrics.auc(test_fpr, test_tpr)\n",
    "    train_roc_auc = metrics.auc(train_fpr, train_tpr)\n",
    "    \n",
    "    test_rates_list = rates(y_random_test,test_pred)\n",
    "    train_rates_list = rates(y_random_train,train_pred)\n",
    "    \n",
    "    ROC['Test_TPR'].append(test_rates_list[0])\n",
    "    ROC['Test_FPR'].append(test_rates_list[1])\n",
    "    \n",
    "    ROC['Train_TPR'].append(train_rates_list[0])\n",
    "    ROC['Train_FPR'].append(train_rates_list[1])\n",
    "    \n",
    "    ROC['Test_AUC'].append(test_roc_auc)\n",
    "    ROC['Train_AUC'].append(train_roc_auc)\n",
    "    \n",
    "    ROC['True'].append(sum(y_random_train==1))"
   ]
  },
  {
   "cell_type": "code",
   "execution_count": 371,
   "metadata": {},
   "outputs": [
    {
     "data": {
      "text/html": [
       "<div>\n",
       "<style scoped>\n",
       "    .dataframe tbody tr th:only-of-type {\n",
       "        vertical-align: middle;\n",
       "    }\n",
       "\n",
       "    .dataframe tbody tr th {\n",
       "        vertical-align: top;\n",
       "    }\n",
       "\n",
       "    .dataframe thead th {\n",
       "        text-align: right;\n",
       "    }\n",
       "</style>\n",
       "<table border=\"1\" class=\"dataframe\">\n",
       "  <thead>\n",
       "    <tr style=\"text-align: right;\">\n",
       "      <th></th>\n",
       "      <th>Train_TPR</th>\n",
       "      <th>Train_FPR</th>\n",
       "      <th>Train_AUC</th>\n",
       "      <th>Test_TPR</th>\n",
       "      <th>Test_FPR</th>\n",
       "      <th>Test_AUC</th>\n",
       "      <th>True</th>\n",
       "    </tr>\n",
       "  </thead>\n",
       "  <tbody>\n",
       "    <tr>\n",
       "      <th>0</th>\n",
       "      <td>1.0</td>\n",
       "      <td>0.311118</td>\n",
       "      <td>0.993440</td>\n",
       "      <td>0.776442</td>\n",
       "      <td>0.315841</td>\n",
       "      <td>0.801542</td>\n",
       "      <td>518.0</td>\n",
       "    </tr>\n",
       "    <tr>\n",
       "      <th>1</th>\n",
       "      <td>1.0</td>\n",
       "      <td>0.315906</td>\n",
       "      <td>0.995168</td>\n",
       "      <td>0.777778</td>\n",
       "      <td>0.316078</td>\n",
       "      <td>0.796155</td>\n",
       "      <td>511.0</td>\n",
       "    </tr>\n",
       "    <tr>\n",
       "      <th>2</th>\n",
       "      <td>1.0</td>\n",
       "      <td>0.304472</td>\n",
       "      <td>0.995917</td>\n",
       "      <td>0.770115</td>\n",
       "      <td>0.309360</td>\n",
       "      <td>0.802918</td>\n",
       "      <td>499.0</td>\n",
       "    </tr>\n",
       "    <tr>\n",
       "      <th>3</th>\n",
       "      <td>1.0</td>\n",
       "      <td>0.318087</td>\n",
       "      <td>0.995661</td>\n",
       "      <td>0.756440</td>\n",
       "      <td>0.322005</td>\n",
       "      <td>0.788558</td>\n",
       "      <td>507.0</td>\n",
       "    </tr>\n",
       "    <tr>\n",
       "      <th>4</th>\n",
       "      <td>1.0</td>\n",
       "      <td>0.328267</td>\n",
       "      <td>0.992446</td>\n",
       "      <td>0.794326</td>\n",
       "      <td>0.330496</td>\n",
       "      <td>0.805143</td>\n",
       "      <td>511.0</td>\n",
       "    </tr>\n",
       "    <tr>\n",
       "      <th>mean</th>\n",
       "      <td>1.0</td>\n",
       "      <td>0.315570</td>\n",
       "      <td>0.994526</td>\n",
       "      <td>0.775020</td>\n",
       "      <td>0.318756</td>\n",
       "      <td>0.798863</td>\n",
       "      <td>509.2</td>\n",
       "    </tr>\n",
       "  </tbody>\n",
       "</table>\n",
       "</div>"
      ],
      "text/plain": [
       "      Train_TPR  Train_FPR  Train_AUC  Test_TPR  Test_FPR  Test_AUC   True\n",
       "0           1.0   0.311118   0.993440  0.776442  0.315841  0.801542  518.0\n",
       "1           1.0   0.315906   0.995168  0.777778  0.316078  0.796155  511.0\n",
       "2           1.0   0.304472   0.995917  0.770115  0.309360  0.802918  499.0\n",
       "3           1.0   0.318087   0.995661  0.756440  0.322005  0.788558  507.0\n",
       "4           1.0   0.328267   0.992446  0.794326  0.330496  0.805143  511.0\n",
       "mean        1.0   0.315570   0.994526  0.775020  0.318756  0.798863  509.2"
      ]
     },
     "execution_count": 371,
     "metadata": {},
     "output_type": "execute_result"
    }
   ],
   "source": [
    "ROC = pd.DataFrame(ROC)\n",
    "mean = pd.DataFrame(ROC.mean(axis = 0))\n",
    "mean = mean.T\n",
    "mean.index = ['mean']\n",
    "ROC.append(mean)"
   ]
  },
  {
   "cell_type": "markdown",
   "metadata": {},
   "source": [
    "#### It seems with different random samples, results are consistent."
   ]
  },
  {
   "cell_type": "markdown",
   "metadata": {},
   "source": [
    "****"
   ]
  },
  {
   "cell_type": "markdown",
   "metadata": {},
   "source": [
    "### Training model without PRCC_F"
   ]
  },
  {
   "cell_type": "code",
   "execution_count": 415,
   "metadata": {},
   "outputs": [
    {
     "name": "stderr",
     "output_type": "stream",
     "text": [
      "C:\\Users\\umaid\\anaconda3\\lib\\site-packages\\sklearn\\base.py:213: FutureWarning: From version 0.24, get_params will raise an AttributeError if a parameter cannot be retrieved as an instance attribute. Previously it would return None.\n",
      "  FutureWarning)\n"
     ]
    },
    {
     "data": {
      "text/plain": [
       "RUSBoost(base_estimator=RandomForestClassifier(class_weight={0: 1, 1: 137.868},\n",
       "                                               max_depth=5, n_estimators=2),\n",
       "         learning_rate=0.1, min_ratio=3, n_estimators=350, random_state=42,\n",
       "         with_replacement=None)"
      ]
     },
     "execution_count": 415,
     "metadata": {},
     "output_type": "execute_result"
    }
   ],
   "source": [
    "# Model with PRCC_F\n",
    "rus = RUSBoost(base_estimator = RandomForestClassifier(n_estimators = 2,class_weight = weights,max_depth = 5),n_estimators=350,learning_rate = 0.1,random_state = 42,min_ratio = 3)\n",
    "rus.fit(X_random_train,y_random_train,minority_target=1)"
   ]
  },
  {
   "cell_type": "code",
   "execution_count": 416,
   "metadata": {},
   "outputs": [],
   "source": [
    "without_prccf_Xtrain = X_train.drop(['prcc_f/sale','prcc_f/at'],axis = 1)\n",
    "X_prccf_train, X_prccf_test, y_prccf_train, y_prccf_test = train_test_split(without_prccf_Xtrain, y_train, test_size = 0.20,random_state = 42)"
   ]
  },
  {
   "cell_type": "code",
   "execution_count": 417,
   "metadata": {},
   "outputs": [
    {
     "name": "stderr",
     "output_type": "stream",
     "text": [
      "C:\\Users\\umaid\\anaconda3\\lib\\site-packages\\sklearn\\base.py:213: FutureWarning: From version 0.24, get_params will raise an AttributeError if a parameter cannot be retrieved as an instance attribute. Previously it would return None.\n",
      "  FutureWarning)\n"
     ]
    },
    {
     "data": {
      "text/plain": [
       "RUSBoost(base_estimator=RandomForestClassifier(class_weight={0: 1, 1: 137.868},\n",
       "                                               max_depth=5, n_estimators=2),\n",
       "         learning_rate=0.1, min_ratio=3, n_estimators=350, random_state=42,\n",
       "         with_replacement=None)"
      ]
     },
     "execution_count": 417,
     "metadata": {},
     "output_type": "execute_result"
    }
   ],
   "source": [
    "# Model with PRCC_F\n",
    "rus_without = RUSBoost(base_estimator = RandomForestClassifier(n_estimators = 2,class_weight = weights,max_depth = 5),n_estimators=350,learning_rate = 0.1,random_state = 42,min_ratio = 3)\n",
    "rus_without.fit(X_prccf_train,y_prccf_train,minority_target=1)"
   ]
  },
  {
   "cell_type": "markdown",
   "metadata": {},
   "source": [
    "##### Results with PRCC_F"
   ]
  },
  {
   "cell_type": "code",
   "execution_count": 425,
   "metadata": {},
   "outputs": [
    {
     "name": "stdout",
     "output_type": "stream",
     "text": [
      "              precision    recall  f1-score   support\n",
      "\n",
      "         0.0       1.00      0.71      0.83     29034\n",
      "         1.0       0.02      0.79      0.03       175\n",
      "\n",
      "    accuracy                           0.71     29209\n",
      "   macro avg       0.51      0.75      0.43     29209\n",
      "weighted avg       0.99      0.71      0.83     29209\n",
      "\n"
     ]
    },
    {
     "data": {
      "image/png": "[encoded data removed]",
      "text/plain": [
       "<Figure size 432x288 with 2 Axes>"
      ]
     },
     "metadata": {
      "needs_background": "light"
     },
     "output_type": "display_data"
    }
   ],
   "source": [
    "y_random_pred = rus.predict(X_random_test)\n",
    "print(classification_report(y_random_test,y_random_pred))\n",
    "cm = confusion_matrix(y_random_test,y_random_pred)\n",
    "plot_cm(cm)"
   ]
  },
  {
   "cell_type": "markdown",
   "metadata": {},
   "source": [
    "#### Results without PRCC_F"
   ]
  },
  {
   "cell_type": "code",
   "execution_count": 426,
   "metadata": {},
   "outputs": [
    {
     "name": "stdout",
     "output_type": "stream",
     "text": [
      "              precision    recall  f1-score   support\n",
      "\n",
      "         0.0       1.00      0.70      0.82     29034\n",
      "         1.0       0.02      0.80      0.03       175\n",
      "\n",
      "    accuracy                           0.70     29209\n",
      "   macro avg       0.51      0.75      0.43     29209\n",
      "weighted avg       0.99      0.70      0.82     29209\n",
      "\n"
     ]
    },
    {
     "data": {
      "image/png": "[encoded data removed]",
      "text/plain": [
       "<Figure size 432x288 with 2 Axes>"
      ]
     },
     "metadata": {
      "needs_background": "light"
     },
     "output_type": "display_data"
    }
   ],
   "source": [
    "y_random_pred_without = rus_without.predict(X_prccf_test)\n",
    "print(classification_report(y_prccf_test,y_random_pred_without))\n",
    "cm = confusion_matrix(y_prccf_test,y_random_pred_without)\n",
    "plot_cm(cm)"
   ]
  }
 ],
 "metadata": {
  "kernelspec": {
   "display_name": "Python 3",
   "language": "python",
   "name": "python3"
  },
  "language_info": {
   "codemirror_mode": {
    "name": "ipython",
    "version": 3
   },
   "file_extension": ".py",
   "mimetype": "text/x-python",
   "name": "python",
   "nbconvert_exporter": "python",
   "pygments_lexer": "ipython3",
   "version": "3.7.6"
  }
 },
 "nbformat": 4,
 "nbformat_minor": 4
}
